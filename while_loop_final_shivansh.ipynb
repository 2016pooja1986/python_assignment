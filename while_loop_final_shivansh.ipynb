{
 "cells": [
  {
   "cell_type": "markdown",
   "id": "61883229-a969-4feb-89b4-e42906c7fa63",
   "metadata": {},
   "source": [
    "# Control Flow : Python Loops\n",
    "- Python has two primitive loop commands:\n",
    "\n",
    "- while loop\n",
    "- for loop"
   ]
  },
  {
   "cell_type": "markdown",
   "id": "86b78532-cbdc-4148-97c4-be9c9bc16e4b",
   "metadata": {},
   "source": [
    "<img src=\"whileloop.jpg\">"
   ]
  },
  {
   "cell_type": "markdown",
   "id": "d93d3b83-9bad-4985-8a88-3b92cddbb62a",
   "metadata": {},
   "source": [
    "# The while Loop\n",
    "With the while loop we can execute a set of statements as long as a condition is true."
   ]
  },
  {
   "cell_type": "raw",
   "id": "26231269-d9ac-47aa-b0d3-38ed4c79b4ab",
   "metadata": {},
   "source": [
    "- Syntax\n",
    "initialization of variable\n",
    "while (test-expression):\n",
    "    body of while\n",
    "    increment/decrement of variable"
   ]
  },
  {
   "cell_type": "markdown",
   "id": "a6e9b104-43d9-4108-9a82-068833a16dc5",
   "metadata": {},
   "source": [
    "<h3 style=\" color:red;\">Note: remember to increment/decrement i, or else the loop will continue forever.</h3>"
   ]
  },
  {
   "cell_type": "code",
   "execution_count": 3,
   "id": "e44d596a-3f5f-4230-b42e-715c6fd4052e",
   "metadata": {},
   "outputs": [
    {
     "name": "stdin",
     "output_type": "stream",
     "text": [
      "Enter the number:: 20\n"
     ]
    },
    {
     "name": "stdout",
     "output_type": "stream",
     "text": [
      "1\n",
      "2\n",
      "3\n",
      "4\n",
      "5\n",
      "6\n",
      "7\n",
      "8\n",
      "9\n",
      "10\n",
      "11\n",
      "12\n",
      "13\n",
      "14\n",
      "15\n",
      "16\n",
      "17\n",
      "18\n",
      "19\n",
      "20\n"
     ]
    }
   ],
   "source": [
    "# print numbers from 1 to given number\n",
    "\n",
    "n = int(input(\"Enter the number::\"))\n",
    "\n",
    "i = 1\n",
    "while i<=n:\n",
    "    print(i)\n",
    "    i += 1\n"
   ]
  },
  {
   "cell_type": "code",
   "execution_count": 4,
   "id": "113e8c1a-6a55-4471-91f3-34a692857b40",
   "metadata": {},
   "outputs": [
    {
     "name": "stdin",
     "output_type": "stream",
     "text": [
      "Enter the number:: 30\n"
     ]
    },
    {
     "name": "stdout",
     "output_type": "stream",
     "text": [
      "3\n",
      "6\n",
      "9\n",
      "12\n",
      "15\n",
      "18\n",
      "21\n",
      "24\n",
      "27\n",
      "30\n"
     ]
    }
   ],
   "source": [
    "# print multiple of 3 from 1 to given number\n",
    "\n",
    "n = int(input(\"Enter the number::\"))\n",
    "\n",
    "i = 1\n",
    "while i<=n:\n",
    "    if i%3==0:\n",
    "        print(i)\n",
    "    i += 1"
   ]
  },
  {
   "cell_type": "code",
   "execution_count": 6,
   "id": "b38d4c27-ae2e-437c-a8bf-ab7282375b66",
   "metadata": {},
   "outputs": [
    {
     "name": "stdin",
     "output_type": "stream",
     "text": [
      "Enter the number:: 25\n"
     ]
    },
    {
     "name": "stdout",
     "output_type": "stream",
     "text": [
      "25\n",
      "24\n",
      "23\n",
      "22\n",
      "21\n",
      "20\n",
      "19\n",
      "18\n",
      "17\n",
      "16\n",
      "15\n",
      "14\n",
      "13\n",
      "12\n",
      "11\n",
      "10\n",
      "9\n",
      "8\n",
      "7\n",
      "6\n",
      "5\n",
      "4\n",
      "3\n",
      "2\n",
      "1\n"
     ]
    }
   ],
   "source": [
    "#print from given number to 1\n",
    "\n",
    "n =  int(input(\"Enter the number::\"))\n",
    "\n",
    "while n >= 1:\n",
    "    print(n)\n",
    "    n -= 1 "
   ]
  },
  {
   "cell_type": "code",
   "execution_count": 8,
   "id": "7160597c-d239-49f3-a35e-14817721e4b4",
   "metadata": {},
   "outputs": [
    {
     "name": "stdin",
     "output_type": "stream",
     "text": [
      "Enter the number:: 10\n"
     ]
    },
    {
     "name": "stdout",
     "output_type": "stream",
     "text": [
      "The sum of first 10 numbers = 55\n"
     ]
    }
   ],
   "source": [
    "#Q calculate the sum of first n numbers.\n",
    "n = int(input('Enter the number::'))\n",
    "\n",
    "_sum = 0\n",
    "i = 1\n",
    "while i<=n:\n",
    "    _sum += i\n",
    "    i +=1\n",
    "print(f\"The sum of first {n} numbers = {_sum}\")"
   ]
  },
  {
   "cell_type": "code",
   "execution_count": 10,
   "id": "50ce543c-b8fd-4c29-865f-7138a99c4d52",
   "metadata": {},
   "outputs": [
    {
     "name": "stdin",
     "output_type": "stream",
     "text": [
      "Enter the number:: 6\n"
     ]
    },
    {
     "name": "stdout",
     "output_type": "stream",
     "text": [
      "6! = 720\n"
     ]
    }
   ],
   "source": [
    "# factorial of given number n\n",
    "\n",
    "n = int(input(\"Enter the number::\"))\n",
    "i = n\n",
    "fact = 1\n",
    "while i>=2:\n",
    "    fact *= i\n",
    "    i -= 1\n",
    "print(f\"{n}! = {fact}\")"
   ]
  },
  {
   "cell_type": "code",
   "execution_count": 11,
   "id": "404dab44-1390-4c41-9c88-7953540231ad",
   "metadata": {},
   "outputs": [
    {
     "name": "stdout",
     "output_type": "stream",
     "text": [
      "p\n",
      "o\n",
      "o\n",
      "j\n",
      "a\n"
     ]
    }
   ],
   "source": [
    "# while loop through string\n",
    "s = \"pooja\"\n",
    "i =0 \n",
    "while i<len(s):\n",
    "    print(s[i])\n",
    "    i += 1"
   ]
  },
  {
   "cell_type": "code",
   "execution_count": 1,
   "id": "2d4cfeae-f872-4048-a45c-db466b5514b9",
   "metadata": {},
   "outputs": [
    {
     "name": "stdin",
     "output_type": "stream",
     "text": [
      "Enter the string::: shivansh\n"
     ]
    }
   ],
   "source": [
    "s = input(\"Enter the string:::\")\n"
   ]
  },
  {
   "cell_type": "code",
   "execution_count": 3,
   "id": "9b251357-53bf-4b80-a45f-43ab65dfaf00",
   "metadata": {},
   "outputs": [
    {
     "name": "stdin",
     "output_type": "stream",
     "text": [
      "Enter the string::: pooja\n"
     ]
    },
    {
     "name": "stdout",
     "output_type": "stream",
     "text": [
      "o\n",
      "j\n"
     ]
    }
   ],
   "source": [
    "s = input(\"Enter the string:::\")\n",
    "i =0\n",
    "while i <len(s):\n",
    "    if i % 2 !=0:\n",
    "        print(s[i])\n",
    "    i += 1"
   ]
  },
  {
   "cell_type": "code",
   "execution_count": 6,
   "id": "3e2bac31-9319-4cee-bd0e-db65f1dab80f",
   "metadata": {},
   "outputs": [
    {
     "name": "stdin",
     "output_type": "stream",
     "text": [
      "Enter the name: shivansh\n"
     ]
    },
    {
     "name": "stdout",
     "output_type": "stream",
     "text": [
      "h\n",
      "s\n",
      "n\n",
      "a\n",
      "v\n",
      "i\n",
      "h\n",
      "s\n"
     ]
    }
   ],
   "source": [
    "# print the characters of the string in reversed order\n",
    "name = input(\"Enter the name:\")\n",
    "name = name[::-1]\n",
    "i =0\n",
    "while i < len(name):\n",
    "    print(name[i])\n",
    "    i += 1"
   ]
  },
  {
   "cell_type": "code",
   "execution_count": 7,
   "id": "3e35c36a-d14d-459a-b8bf-c685495d0c42",
   "metadata": {},
   "outputs": [
    {
     "name": "stdin",
     "output_type": "stream",
     "text": [
      "Enter the name: twinkle\n"
     ]
    },
    {
     "name": "stdout",
     "output_type": "stream",
     "text": [
      "e\n",
      "l\n",
      "k\n",
      "n\n",
      "i\n",
      "w\n",
      "t\n"
     ]
    }
   ],
   "source": [
    "name = input(\"Enter the name:\")\n",
    "\n",
    "i = -1\n",
    "while i >= - len(name):\n",
    "    print(name[i])\n",
    "    i -= 1"
   ]
  },
  {
   "cell_type": "markdown",
   "id": "5b4a7714-321a-455a-b0a1-27ae3930b054",
   "metadata": {},
   "source": [
    "# The break Statement\n",
    "With the break statement we can stop the loop even if the while condition is true:"
   ]
  },
  {
   "cell_type": "code",
   "execution_count": 11,
   "id": "aee6f943-07f3-45d7-93f2-34c4643293af",
   "metadata": {},
   "outputs": [
    {
     "name": "stdin",
     "output_type": "stream",
     "text": [
      "Enter the pin for transaction:: 2345\n"
     ]
    },
    {
     "name": "stdout",
     "output_type": "stream",
     "text": [
      "Incorrect pin, please reenter\n",
      "2chances are left\n"
     ]
    },
    {
     "name": "stdin",
     "output_type": "stream",
     "text": [
      "Enter the pin for transaction:: 3456\n"
     ]
    },
    {
     "name": "stdout",
     "output_type": "stream",
     "text": [
      "Incorrect pin, please reenter\n",
      "1chances are left\n"
     ]
    },
    {
     "name": "stdin",
     "output_type": "stream",
     "text": [
      "Enter the pin for transaction:: 1236\n"
     ]
    },
    {
     "name": "stdout",
     "output_type": "stream",
     "text": [
      "Incorrect pin, please reenter\n",
      "0chances are left\n"
     ]
    }
   ],
   "source": [
    "i =3\n",
    "while i>=1:\n",
    "    pin = int(input(\"Enter the pin for transaction::\"))\n",
    "    if pin == 1234:\n",
    "        print(\"Correct pin\")\n",
    "        break\n",
    "    else:\n",
    "        print(f\"Incorrect pin, please reenter\\n{i-1}chances are left\")\n",
    "    i -= 1"
   ]
  },
  {
   "cell_type": "code",
   "execution_count": 15,
   "id": "674b64a8-e25a-4c5d-a796-4a4b6ed0265a",
   "metadata": {},
   "outputs": [
    {
     "name": "stdin",
     "output_type": "stream",
     "text": [
      "Enter the age:  w23\n"
     ]
    },
    {
     "ename": "ValueError",
     "evalue": "invalid literal for int() with base 10: 'w23'",
     "output_type": "error",
     "traceback": [
      "\u001b[1;31m---------------------------------------------------------------------------\u001b[0m",
      "\u001b[1;31mValueError\u001b[0m                                Traceback (most recent call last)",
      "Cell \u001b[1;32mIn[15], line 1\u001b[0m\n\u001b[1;32m----> 1\u001b[0m age\u001b[38;5;241m=\u001b[39m \u001b[38;5;28mint\u001b[39m(\u001b[38;5;28minput\u001b[39m(\u001b[38;5;124m\"\u001b[39m\u001b[38;5;124mEnter the age: \u001b[39m\u001b[38;5;124m\"\u001b[39m))\n\u001b[0;32m      2\u001b[0m \u001b[38;5;28mprint\u001b[39m(\u001b[38;5;124m\"\u001b[39m\u001b[38;5;124mHellooooooooooooo\u001b[39m\u001b[38;5;124m\"\u001b[39m)\n",
      "\u001b[1;31mValueError\u001b[0m: invalid literal for int() with base 10: 'w23'"
     ]
    }
   ],
   "source": [
    "age= int(input(\"Enter the age: \"))\n",
    "print(\"Hellooooooooooooo\")"
   ]
  },
  {
   "cell_type": "code",
   "execution_count": 16,
   "id": "bcc2f896-d7bd-4274-b9ba-e0cf84cb0e09",
   "metadata": {},
   "outputs": [
    {
     "name": "stdin",
     "output_type": "stream",
     "text": [
      "Enter the age sdf\n"
     ]
    },
    {
     "name": "stdout",
     "output_type": "stream",
     "text": [
      "ERROR: Age should be in digits\n"
     ]
    },
    {
     "name": "stdin",
     "output_type": "stream",
     "text": [
      "Enter the age 4345gh\n"
     ]
    },
    {
     "name": "stdout",
     "output_type": "stream",
     "text": [
      "ERROR: Age should be in digits\n"
     ]
    },
    {
     "name": "stdin",
     "output_type": "stream",
     "text": [
      "Enter the age 43s\n"
     ]
    },
    {
     "name": "stdout",
     "output_type": "stream",
     "text": [
      "ERROR: Age should be in digits\n"
     ]
    },
    {
     "name": "stdin",
     "output_type": "stream",
     "text": [
      "Enter the age gf\n"
     ]
    },
    {
     "name": "stdout",
     "output_type": "stream",
     "text": [
      "ERROR: Age should be in digits\n"
     ]
    },
    {
     "name": "stdin",
     "output_type": "stream",
     "text": [
      "Enter the age gf\n"
     ]
    },
    {
     "name": "stdout",
     "output_type": "stream",
     "text": [
      "ERROR: Age should be in digits\n"
     ]
    },
    {
     "name": "stdin",
     "output_type": "stream",
     "text": [
      "Enter the age 54h\n"
     ]
    },
    {
     "name": "stdout",
     "output_type": "stream",
     "text": [
      "ERROR: Age should be in digits\n"
     ]
    },
    {
     "name": "stdin",
     "output_type": "stream",
     "text": [
      "Enter the age 38\n"
     ]
    },
    {
     "name": "stdout",
     "output_type": "stream",
     "text": [
      "Age of person is 38\n",
      "Done\n"
     ]
    }
   ],
   "source": [
    "# Infinite looping\n",
    "while True:\n",
    "    age = input(\"Enter the age\")\n",
    "\n",
    "    if age.isnumeric():\n",
    "        age = int(age)\n",
    "        print(f\"Age of person is {age}\")\n",
    "        break\n",
    "    else:\n",
    "        print(\"ERROR: Age should be in digits\")\n",
    "\n",
    "print(\"Done\")"
   ]
  },
  {
   "cell_type": "code",
   "execution_count": 18,
   "id": "8af6fcac-67f1-40c1-bbb6-27320ff639be",
   "metadata": {},
   "outputs": [
    {
     "name": "stdin",
     "output_type": "stream",
     "text": [
      "Enter the number:: 10\n"
     ]
    },
    {
     "name": "stdout",
     "output_type": "stream",
     "text": [
      "10 x 1 = 10\n",
      "10 x 2 = 20\n",
      "10 x 3 = 30\n",
      "10 x 4 = 40\n",
      "10 x 5 = 50\n",
      "10 x 6 = 60\n",
      "10 x 7 = 70\n",
      "10 x 8 = 80\n",
      "10 x 9 = 90\n",
      "10 x 10 = 100\n"
     ]
    }
   ],
   "source": [
    "# Table of given number\n",
    "n = int(input(\"Enter the number::\"))\n",
    "\n",
    "i = 1\n",
    "while i<=10:\n",
    "    print(f\"{n} x {i} = {n*i}\")\n",
    "    i += 1"
   ]
  },
  {
   "cell_type": "raw",
   "id": "ca31aa25-defc-4874-9f32-af2f4f43780b",
   "metadata": {},
   "source": [
    "*\n",
    "**\n",
    "***\n",
    "****\n",
    "*****"
   ]
  },
  {
   "cell_type": "code",
   "execution_count": 19,
   "id": "54cc0fbd-3009-4388-9179-31f7ac429b52",
   "metadata": {},
   "outputs": [
    {
     "name": "stdout",
     "output_type": "stream",
     "text": [
      "*\n",
      "**\n",
      "***\n",
      "****\n",
      "*****\n"
     ]
    }
   ],
   "source": [
    "i = 1\n",
    "while i <=5:\n",
    "    print(\"*\" * i)\n",
    "    i += 1"
   ]
  },
  {
   "cell_type": "code",
   "execution_count": 20,
   "id": "7b224fbb-48a0-461a-8db3-5c5cf48b8747",
   "metadata": {},
   "outputs": [
    {
     "data": {
      "text/plain": [
       "'dsfdfsdsfdfsdsfdfsdsfdfsdsfdfs'"
      ]
     },
     "execution_count": 20,
     "metadata": {},
     "output_type": "execute_result"
    }
   ],
   "source": [
    "\"dsfdfs\"*5"
   ]
  },
  {
   "cell_type": "raw",
   "id": "2114e2ee-35b8-44bc-8b64-ab06122687de",
   "metadata": {},
   "source": [
    "   *\n",
    "  ***\n",
    " *****\n",
    "*******"
   ]
  },
  {
   "cell_type": "code",
   "execution_count": 22,
   "id": "3a3695ca-b48b-431f-9959-e81b80c5a221",
   "metadata": {},
   "outputs": [
    {
     "name": "stdout",
     "output_type": "stream",
     "text": [
      "    *\n",
      "   ***\n",
      "  *****\n",
      " *******\n"
     ]
    }
   ],
   "source": [
    "j=3\n",
    "i = 1\n",
    "while i <=7:\n",
    "    print(\" \"*j,\"*\" * i)\n",
    "    i += 2\n",
    "    j -= 1"
   ]
  },
  {
   "cell_type": "markdown",
   "id": "7478de41-ade1-4c00-898c-ba97ba3d9cab",
   "metadata": {},
   "source": [
    "# The continue Statement\n",
    "With the continue statement we can stop the current iteration, and continue with the next:"
   ]
  },
  {
   "cell_type": "code",
   "execution_count": null,
   "id": "85b632c3-8f87-4f3f-90ac-299d4b3de991",
   "metadata": {},
   "outputs": [],
   "source": [
    "#print all the odd number from 1 to given number\n",
    "n = 10\n",
    "i = 1\n",
    "while i <=n:\n",
    "    if i%2==0:\n",
    "        continue\n",
    "    print(i)\n",
    "    i += 1"
   ]
  },
  {
   "cell_type": "markdown",
   "id": "59696501-acd7-42e0-98f7-8dc80d1f7481",
   "metadata": {},
   "source": [
    "# The else Statement\n",
    "With the else statement we can run a block of code once when the condition no longer is true:"
   ]
  },
  {
   "cell_type": "code",
   "execution_count": 12,
   "id": "caed244d-70a0-4de8-ae1f-128df489a285",
   "metadata": {},
   "outputs": [
    {
     "name": "stdout",
     "output_type": "stream",
     "text": [
      "@ is not present\n"
     ]
    }
   ],
   "source": [
    "s = 'pooja123'\n",
    "\n",
    "\n",
    "i=0\n",
    "while i<len(s):\n",
    "    if s[i] == '@':\n",
    "        print(\"@ is present in the string\")\n",
    "        break\n",
    "    i +=1\n",
    "else:\n",
    "    print('@ is not present')"
   ]
  },
  {
   "cell_type": "code",
   "execution_count": 16,
   "id": "d0d6106e-4125-4f40-ac41-d86b16d3506a",
   "metadata": {},
   "outputs": [
    {
     "name": "stdout",
     "output_type": "stream",
     "text": [
      "@ is not present\n"
     ]
    }
   ],
   "source": [
    "s = 'pooja123'\n",
    "\n",
    "f = False\n",
    "i=0\n",
    "while i<len(s):\n",
    "    if s[i] == '@':   \n",
    "        f=True\n",
    "        break\n",
    "    i +=1\n",
    "\n",
    "if f:\n",
    "    print(\"@ is present in the string\")\n",
    "else:\n",
    "    print('@ is not present')"
   ]
  },
  {
   "cell_type": "code",
   "execution_count": 18,
   "id": "5f74b0b2-5c0b-4672-b0ae-bf1212c5d814",
   "metadata": {},
   "outputs": [
    {
     "name": "stdin",
     "output_type": "stream",
     "text": [
      "Enter the number:: 13\n"
     ]
    },
    {
     "name": "stdout",
     "output_type": "stream",
     "text": [
      "13 is a prime number\n"
     ]
    }
   ],
   "source": [
    "# Check whether number is prime number or not\n",
    "\n",
    "n = int(input(\"Enter the number::\"))\n",
    "\n",
    "i = 2\n",
    "while i<n:\n",
    "    if n%i==0:\n",
    "        print(f\"{n} is not a prime number\")\n",
    "        break\n",
    "    i += 1\n",
    "else:\n",
    "    print(f\"{n} is a prime number\")"
   ]
  },
  {
   "cell_type": "code",
   "execution_count": 20,
   "id": "382b8e84-25e2-455c-ab06-4e21e4cd88bb",
   "metadata": {},
   "outputs": [
    {
     "name": "stdin",
     "output_type": "stream",
     "text": [
      "Enter the number:: 113\n"
     ]
    },
    {
     "name": "stdout",
     "output_type": "stream",
     "text": [
      "113 is a prime number\n"
     ]
    }
   ],
   "source": [
    "n = int(input(\"Enter the number::\"))\n",
    "f = True\n",
    "i = 2\n",
    "while i<n:\n",
    "    if n%i==0:\n",
    "        f = False\n",
    "        break\n",
    "    i += 1\n",
    "\n",
    "if f:\n",
    "    print(f\"{n} is a prime number\")\n",
    "else:\n",
    "    print(f\"{n} is not a prime number\")"
   ]
  },
  {
   "cell_type": "markdown",
   "id": "319fbcd9-66b7-4662-9d7a-e958dd2436cf",
   "metadata": {},
   "source": [
    "# Nested while loop"
   ]
  },
  {
   "cell_type": "code",
   "execution_count": 25,
   "id": "4343feb5-76a1-41b5-b0ea-ba5c84e338b0",
   "metadata": {},
   "outputs": [
    {
     "name": "stdin",
     "output_type": "stream",
     "text": [
      "Enter the number:: 5\n"
     ]
    },
    {
     "name": "stdout",
     "output_type": "stream",
     "text": [
      "***** Table of 1 ***** \n",
      "\n",
      "1x1= 1\n",
      "1x2= 2\n",
      "1x3= 3\n",
      "1x4= 4\n",
      "1x5= 5\n",
      "1x6= 6\n",
      "1x7= 7\n",
      "1x8= 8\n",
      "1x9= 9\n",
      "1x10= 10\n",
      "***** Table of 2 ***** \n",
      "\n",
      "2x1= 2\n",
      "2x2= 4\n",
      "2x3= 6\n",
      "2x4= 8\n",
      "2x5= 10\n",
      "2x6= 12\n",
      "2x7= 14\n",
      "2x8= 16\n",
      "2x9= 18\n",
      "2x10= 20\n",
      "***** Table of 3 ***** \n",
      "\n",
      "3x1= 3\n",
      "3x2= 6\n",
      "3x3= 9\n",
      "3x4= 12\n",
      "3x5= 15\n",
      "3x6= 18\n",
      "3x7= 21\n",
      "3x8= 24\n",
      "3x9= 27\n",
      "3x10= 30\n",
      "***** Table of 4 ***** \n",
      "\n",
      "4x1= 4\n",
      "4x2= 8\n",
      "4x3= 12\n",
      "4x4= 16\n",
      "4x5= 20\n",
      "4x6= 24\n",
      "4x7= 28\n",
      "4x8= 32\n",
      "4x9= 36\n",
      "4x10= 40\n",
      "***** Table of 5 ***** \n",
      "\n",
      "5x1= 5\n",
      "5x2= 10\n",
      "5x3= 15\n",
      "5x4= 20\n",
      "5x5= 25\n",
      "5x6= 30\n",
      "5x7= 35\n",
      "5x8= 40\n",
      "5x9= 45\n",
      "5x10= 50\n"
     ]
    }
   ],
   "source": [
    "n = int(input(\"Enter the number::\"))\n",
    "\n",
    "i= 1\n",
    "while i<=n:\n",
    "    j =1\n",
    "    print(\"*\"*5,f\"Table of {i}\",\"*\"*5,\"\\n\")\n",
    "    while j<=10:\n",
    "        print(f\"{i}x{j}= {i*j}\")\n",
    "        j += 1\n",
    "    i +=1\n"
   ]
  },
  {
   "cell_type": "raw",
   "id": "df41de82-92c7-413a-96fc-510d383f81c6",
   "metadata": {},
   "source": [
    "1\n",
    "22\n",
    "333\n",
    "4444\n",
    "55555"
   ]
  },
  {
   "cell_type": "code",
   "execution_count": 28,
   "id": "c2b623be-099f-4d43-b8e5-ecd46a264753",
   "metadata": {},
   "outputs": [
    {
     "name": "stdout",
     "output_type": "stream",
     "text": [
      "1\n",
      "22\n",
      "333\n",
      "4444\n",
      "55555\n"
     ]
    }
   ],
   "source": [
    "i = 1\n",
    "\n",
    "while i<=5:\n",
    "    j = 1\n",
    "    while j <=i:\n",
    "        print(i,end=\"\")\n",
    "        j += 1\n",
    "    print(\"\")\n",
    "    i+=1"
   ]
  },
  {
   "cell_type": "raw",
   "id": "17f7fe58-76b9-46ae-9de2-ef99de9575ea",
   "metadata": {},
   "source": [
    "1\n",
    "12\n",
    "123\n",
    "1234\n",
    "12345"
   ]
  },
  {
   "cell_type": "code",
   "execution_count": 29,
   "id": "f24b0e89-55b6-4226-90be-bc230099994d",
   "metadata": {},
   "outputs": [
    {
     "name": "stdout",
     "output_type": "stream",
     "text": [
      "1\n",
      "12\n",
      "123\n",
      "1234\n",
      "12345\n"
     ]
    }
   ],
   "source": [
    "i = 1\n",
    "\n",
    "while i<=5:\n",
    "    j = 1\n",
    "    while j <=i:\n",
    "        print(j,end=\"\")\n",
    "        j += 1\n",
    "    print(\"\")\n",
    "    i+=1"
   ]
  },
  {
   "cell_type": "raw",
   "id": "4ff0590e-c733-4b5c-aac2-6920c1d5930d",
   "metadata": {},
   "source": [
    "A\n",
    "AB\n",
    "ABC\n",
    "ABCD\n",
    "ABCDE"
   ]
  },
  {
   "cell_type": "code",
   "execution_count": 31,
   "id": "147689a1-4762-490e-8775-a4e15e09b520",
   "metadata": {},
   "outputs": [
    {
     "data": {
      "text/plain": [
       "65"
      ]
     },
     "execution_count": 31,
     "metadata": {},
     "output_type": "execute_result"
    }
   ],
   "source": [
    "ord('A')  #inbuilt function that returns the ascii value/ unicode value"
   ]
  },
  {
   "cell_type": "code",
   "execution_count": 33,
   "id": "866fa1f6-b8bc-4c0b-aab8-cd0cc783a6d7",
   "metadata": {},
   "outputs": [
    {
     "data": {
      "text/plain": [
       "'3'"
      ]
     },
     "execution_count": 33,
     "metadata": {},
     "output_type": "execute_result"
    }
   ],
   "source": [
    "chr(51)   # inbuilt function that returns character for given ascii value"
   ]
  },
  {
   "cell_type": "code",
   "execution_count": 34,
   "id": "62e46dfc-8ed0-4b41-a5de-be480ff37181",
   "metadata": {},
   "outputs": [
    {
     "name": "stdout",
     "output_type": "stream",
     "text": [
      "A\n",
      "AB\n",
      "ABC\n",
      "ABCD\n",
      "ABCDE\n"
     ]
    }
   ],
   "source": [
    "i = 1\n",
    "\n",
    "while i<=5:\n",
    "    j = 1\n",
    "    k=65\n",
    "    while j <=i:\n",
    "        print(chr(k),end=\"\")\n",
    "        j += 1\n",
    "        k += 1\n",
    "    print(\"\")\n",
    "    i+=1"
   ]
  },
  {
   "cell_type": "raw",
   "id": "2da5d846-ff75-4f2f-8fd9-275c02504bb1",
   "metadata": {},
   "source": [
    "A\n",
    "BB\n",
    "CCC\n",
    "DDDD\n",
    "EEEEE"
   ]
  },
  {
   "cell_type": "code",
   "execution_count": 37,
   "id": "00fccead-f70c-42ba-9f07-07f839568ac6",
   "metadata": {},
   "outputs": [
    {
     "name": "stdout",
     "output_type": "stream",
     "text": [
      "A\n",
      "BB\n",
      "CCC\n",
      "DDDD\n",
      "EEEEE\n"
     ]
    }
   ],
   "source": [
    "i = 1\n",
    "k=65\n",
    "while i<=5:\n",
    "    j = 1\n",
    "    while j <=i:\n",
    "        print(chr(k),end=\"\")\n",
    "        j += 1\n",
    "    k += 1\n",
    "    print(\"\")\n",
    "    i+=1"
   ]
  },
  {
   "cell_type": "raw",
   "id": "d3b9b5cd-ca91-4b51-9873-144b3a6685bf",
   "metadata": {},
   "source": [
    "A\n",
    "BC\n",
    "DEF\n",
    "GHIJ\n",
    "KLMNO"
   ]
  },
  {
   "cell_type": "raw",
   "id": "22abd45e-6f47-46c4-9dbe-c9cf8f552917",
   "metadata": {},
   "source": [
    "  *  \n",
    " *** \n",
    "*****\n",
    " *** \n",
    "  * "
   ]
  },
  {
   "cell_type": "raw",
   "id": "231cc33c-bff3-4847-af89-e67dd93de36e",
   "metadata": {},
   "source": [
    "1010101\n",
    " 10101 \n",
    "  101  \n",
    "   1  "
   ]
  },
  {
   "cell_type": "code",
   "execution_count": null,
   "id": "709b2583-6935-496f-a374-7564473114a0",
   "metadata": {},
   "outputs": [],
   "source": []
  }
 ],
 "metadata": {
  "kernelspec": {
   "display_name": "Python 3 (ipykernel)",
   "language": "python",
   "name": "python3"
  },
  "language_info": {
   "codemirror_mode": {
    "name": "ipython",
    "version": 3
   },
   "file_extension": ".py",
   "mimetype": "text/x-python",
   "name": "python",
   "nbconvert_exporter": "python",
   "pygments_lexer": "ipython3",
   "version": "3.11.7"
  }
 },
 "nbformat": 4,
 "nbformat_minor": 5
}
