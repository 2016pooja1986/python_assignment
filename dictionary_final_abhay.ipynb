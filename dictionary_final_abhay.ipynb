{
 "cells": [
  {
   "cell_type": "markdown",
   "id": "1bffb1ac-1df4-4b88-8720-15f150fcc3d4",
   "metadata": {},
   "source": [
    "# Dictionary\n",
    "- written with curly brackets, and stores data in key-value pair\n",
    "- ordered\n",
    "- Key should be unique, duplicate keys are not allowed \n",
    "- access the values, with help of keys\n",
    "- Mutable/changable\n",
    "- **As of Python version 3.7, dictionaries are ordered. In Python 3.6 and earlier, dictionaries are unordered."
   ]
  },
  {
   "cell_type": "code",
   "execution_count": 1,
   "id": "c7222b46-7d84-49d0-b3de-194985e168c8",
   "metadata": {},
   "outputs": [],
   "source": [
    "#Creating empty dictionary\n",
    "d = {}"
   ]
  },
  {
   "cell_type": "code",
   "execution_count": 2,
   "id": "d20e47d5-5af7-4f99-8e86-96843044ae4d",
   "metadata": {},
   "outputs": [
    {
     "name": "stdout",
     "output_type": "stream",
     "text": [
      "<class 'dict'>\n"
     ]
    }
   ],
   "source": [
    "print(type(d))"
   ]
  },
  {
   "cell_type": "code",
   "execution_count": 3,
   "id": "c9653d90-5e82-47c5-b0ad-c25ac0eebf69",
   "metadata": {},
   "outputs": [],
   "source": [
    "d1 = dict()"
   ]
  },
  {
   "cell_type": "code",
   "execution_count": 4,
   "id": "50e30554-d7fc-43c4-936e-88213b4f4417",
   "metadata": {},
   "outputs": [
    {
     "name": "stdout",
     "output_type": "stream",
     "text": [
      "<class 'dict'>\n"
     ]
    }
   ],
   "source": [
    "print(type(d1))"
   ]
  },
  {
   "cell_type": "code",
   "execution_count": 5,
   "id": "d33e93d2-995f-453b-88ff-28a17e9eb336",
   "metadata": {},
   "outputs": [
    {
     "data": {
      "text/plain": [
       "{}"
      ]
     },
     "execution_count": 5,
     "metadata": {},
     "output_type": "execute_result"
    }
   ],
   "source": [
    "d1"
   ]
  },
  {
   "cell_type": "markdown",
   "id": "b5aabc34-8b2c-4137-842f-f31af70812b4",
   "metadata": {},
   "source": [
    "# Create and print a dictionary"
   ]
  },
  {
   "cell_type": "markdown",
   "id": "cbaee3b8-968d-4229-ac3c-bd7055dc64ee",
   "metadata": {},
   "source": [
    "### Method1"
   ]
  },
  {
   "cell_type": "code",
   "execution_count": 88,
   "id": "49a978c0-d983-4beb-a2e2-3653836c59e4",
   "metadata": {},
   "outputs": [],
   "source": [
    "emp = {101:'pooja',102:'Abhay',103:'Sahil',104:'twinkle',103:'Nam'}"
   ]
  },
  {
   "cell_type": "code",
   "execution_count": 8,
   "id": "88052c33-a244-442e-bb2a-9b8af2cb0bde",
   "metadata": {},
   "outputs": [
    {
     "name": "stdout",
     "output_type": "stream",
     "text": [
      "{101: 'pooja', 102: 'Abhay', 103: 'Nam', 104: 'twinkle'}\n"
     ]
    }
   ],
   "source": [
    "print(emp)"
   ]
  },
  {
   "cell_type": "markdown",
   "id": "3740e529-1aa3-4752-b00e-da7b3e89b044",
   "metadata": {},
   "source": [
    "### method2"
   ]
  },
  {
   "cell_type": "code",
   "execution_count": 89,
   "id": "ce159515-3f2c-4d94-b303-84395aac1803",
   "metadata": {},
   "outputs": [],
   "source": [
    "# create a dic with list of tuples using dict()\n",
    "\n",
    "detail = dict([('name','pooja'),('age',38),('salary',35000),('hobby',['coding','puzzle']),('gender','female')])"
   ]
  },
  {
   "cell_type": "code",
   "execution_count": 10,
   "id": "7df41acc-2c68-4bf6-b5cc-15bf26cc0c1d",
   "metadata": {},
   "outputs": [
    {
     "name": "stdout",
     "output_type": "stream",
     "text": [
      "{'name': 'pooja', 'age': 38, 'salary': 35000, 'hobby': ['coding', 'puzzle'], 'gender': 'female'}\n"
     ]
    }
   ],
   "source": [
    "print(detail)"
   ]
  },
  {
   "cell_type": "markdown",
   "id": "78900a47-1a10-45e0-9726-54bc287e907f",
   "metadata": {},
   "source": [
    "### Method3"
   ]
  },
  {
   "cell_type": "code",
   "execution_count": 90,
   "id": "65d367fd-1374-4dc8-b138-f640723c9d38",
   "metadata": {},
   "outputs": [],
   "source": [
    "#dict() constructor to make a dictionary , Key need not to be written in \"\" \n",
    "menu = dict(dishes=['maggi','pasta','pizza'],price=[20,30,50])"
   ]
  },
  {
   "cell_type": "code",
   "execution_count": 12,
   "id": "61b452bd-1ca3-4105-bd8b-f3a800f10eff",
   "metadata": {},
   "outputs": [
    {
     "name": "stdout",
     "output_type": "stream",
     "text": [
      "{'dishes': ['maggi', 'pasta', 'pizza'], 'price': [20, 30, 50]}\n"
     ]
    }
   ],
   "source": [
    "print(menu)"
   ]
  },
  {
   "cell_type": "markdown",
   "id": "a26d7ed3-0b70-4596-9a88-8bd1891cdff8",
   "metadata": {},
   "source": [
    "### Method4"
   ]
  },
  {
   "cell_type": "code",
   "execution_count": 13,
   "id": "27149859-3f14-4be1-804e-f2abc8322488",
   "metadata": {},
   "outputs": [
    {
     "data": {
      "text/plain": [
       "{}"
      ]
     },
     "execution_count": 13,
     "metadata": {},
     "output_type": "execute_result"
    }
   ],
   "source": [
    "d"
   ]
  },
  {
   "cell_type": "code",
   "execution_count": 14,
   "id": "7905efa9-30eb-438a-8a37-faf7fcdeb559",
   "metadata": {},
   "outputs": [],
   "source": [
    "d['A']='Apple'"
   ]
  },
  {
   "cell_type": "code",
   "execution_count": 15,
   "id": "f58eee4e-3d10-476d-90c9-53fc426b88bc",
   "metadata": {},
   "outputs": [
    {
     "data": {
      "text/plain": [
       "{'A': 'Apple'}"
      ]
     },
     "execution_count": 15,
     "metadata": {},
     "output_type": "execute_result"
    }
   ],
   "source": [
    "d"
   ]
  },
  {
   "cell_type": "code",
   "execution_count": 16,
   "id": "878fb3f0-2e67-4afe-94c8-4521b33fab10",
   "metadata": {},
   "outputs": [],
   "source": [
    "d['A'] = 'Appricot'"
   ]
  },
  {
   "cell_type": "code",
   "execution_count": 17,
   "id": "12075cc6-fdec-4789-8728-847610584f17",
   "metadata": {},
   "outputs": [
    {
     "data": {
      "text/plain": [
       "{'A': 'Appricot'}"
      ]
     },
     "execution_count": 17,
     "metadata": {},
     "output_type": "execute_result"
    }
   ],
   "source": [
    "d"
   ]
  },
  {
   "cell_type": "code",
   "execution_count": 18,
   "id": "27cbf91b-8d40-4ce8-8f10-c92a1ea2fb7f",
   "metadata": {},
   "outputs": [],
   "source": [
    "d['B']='Banana'"
   ]
  },
  {
   "cell_type": "code",
   "execution_count": 19,
   "id": "5da0c109-bd91-4b4e-a80b-384893c889a9",
   "metadata": {},
   "outputs": [
    {
     "data": {
      "text/plain": [
       "{'A': 'Appricot', 'B': 'Banana'}"
      ]
     },
     "execution_count": 19,
     "metadata": {},
     "output_type": "execute_result"
    }
   ],
   "source": [
    "d"
   ]
  },
  {
   "cell_type": "markdown",
   "id": "5bb586b0-64ba-4f28-932c-4d60a63c25be",
   "metadata": {},
   "source": [
    "# Accessing elements\n",
    "You can access the items of a dictionary by referring to its key name, inside square brackets:"
   ]
  },
  {
   "cell_type": "code",
   "execution_count": 20,
   "id": "a49e5e62-7ff3-4c2c-8043-9f196b8bcbeb",
   "metadata": {},
   "outputs": [
    {
     "data": {
      "text/plain": [
       "{'dishes': ['maggi', 'pasta', 'pizza'], 'price': [20, 30, 50]}"
      ]
     },
     "execution_count": 20,
     "metadata": {},
     "output_type": "execute_result"
    }
   ],
   "source": [
    "menu"
   ]
  },
  {
   "cell_type": "code",
   "execution_count": 21,
   "id": "4dcc9b89-165a-41aa-8001-ba8a91c01b73",
   "metadata": {},
   "outputs": [
    {
     "data": {
      "text/plain": [
       "['maggi', 'pasta', 'pizza']"
      ]
     },
     "execution_count": 21,
     "metadata": {},
     "output_type": "execute_result"
    }
   ],
   "source": [
    "menu['dishes']"
   ]
  },
  {
   "cell_type": "code",
   "execution_count": 22,
   "id": "41cc4e00-cee9-4984-9af3-8f774c219996",
   "metadata": {},
   "outputs": [
    {
     "data": {
      "text/plain": [
       "{101: 'pooja', 102: 'Abhay', 103: 'Nam', 104: 'twinkle'}"
      ]
     },
     "execution_count": 22,
     "metadata": {},
     "output_type": "execute_result"
    }
   ],
   "source": [
    "emp"
   ]
  },
  {
   "cell_type": "code",
   "execution_count": 23,
   "id": "44a27df1-eed1-465b-a1df-a8856a43c844",
   "metadata": {},
   "outputs": [
    {
     "data": {
      "text/plain": [
       "'Abhay'"
      ]
     },
     "execution_count": 23,
     "metadata": {},
     "output_type": "execute_result"
    }
   ],
   "source": [
    "emp[102]"
   ]
  },
  {
   "cell_type": "code",
   "execution_count": 24,
   "id": "4f7e11b8-57c8-4bd6-ad12-1cb7fcb39bc4",
   "metadata": {},
   "outputs": [
    {
     "data": {
      "text/plain": [
       "{'name': 'pooja',\n",
       " 'age': 38,\n",
       " 'salary': 35000,\n",
       " 'hobby': ['coding', 'puzzle'],\n",
       " 'gender': 'female'}"
      ]
     },
     "execution_count": 24,
     "metadata": {},
     "output_type": "execute_result"
    }
   ],
   "source": [
    "detail"
   ]
  },
  {
   "cell_type": "code",
   "execution_count": 25,
   "id": "a6477f9b-737e-4e4f-a147-997217e17d22",
   "metadata": {},
   "outputs": [
    {
     "name": "stdout",
     "output_type": "stream",
     "text": [
      "Name of person:: pooja\n",
      "Hobbies:: ['coding', 'puzzle']\n"
     ]
    }
   ],
   "source": [
    "print(f\"Name of person:: {detail['name']}\\nHobbies:: {detail['hobby']}\")"
   ]
  },
  {
   "cell_type": "code",
   "execution_count": 26,
   "id": "f59ff823-7894-4b95-addc-ddab81fbd5bc",
   "metadata": {},
   "outputs": [
    {
     "data": {
      "text/plain": [
       "{'dishes': ['maggi', 'pasta', 'pizza'], 'price': [20, 30, 50]}"
      ]
     },
     "execution_count": 26,
     "metadata": {},
     "output_type": "execute_result"
    }
   ],
   "source": [
    "menu"
   ]
  },
  {
   "cell_type": "code",
   "execution_count": 33,
   "id": "d6ea4cf1-3997-4c13-96d7-8474d2f88c94",
   "metadata": {},
   "outputs": [
    {
     "name": "stdout",
     "output_type": "stream",
     "text": [
      "Name of dish:: maggi\n",
      "Price of dish::Rs20\n"
     ]
    }
   ],
   "source": [
    "print(f\"Name of dish:: {menu['dishes'][0]}\\nPrice \\\n",
    "of dish::Rs{menu['price'][0]}\")"
   ]
  },
  {
   "cell_type": "code",
   "execution_count": 34,
   "id": "9f293dfc-90e1-4ea1-b8e0-82edf7af14f9",
   "metadata": {},
   "outputs": [
    {
     "data": {
      "text/plain": [
       "['maggi', 'pasta', 'pizza']"
      ]
     },
     "execution_count": 34,
     "metadata": {},
     "output_type": "execute_result"
    }
   ],
   "source": [
    "menu['dishes']"
   ]
  },
  {
   "cell_type": "markdown",
   "id": "757dc2dd-acb6-4634-8124-ed2476798a13",
   "metadata": {},
   "source": [
    "## get()"
   ]
  },
  {
   "cell_type": "code",
   "execution_count": 35,
   "id": "944fea86-95e1-418d-b1ca-4dc152b46991",
   "metadata": {},
   "outputs": [
    {
     "data": {
      "text/plain": [
       "['maggi', 'pasta', 'pizza']"
      ]
     },
     "execution_count": 35,
     "metadata": {},
     "output_type": "execute_result"
    }
   ],
   "source": [
    "menu.get('dishes')"
   ]
  },
  {
   "cell_type": "code",
   "execution_count": 36,
   "id": "b5510e2e-e869-4777-9a6d-5875a1810475",
   "metadata": {},
   "outputs": [
    {
     "data": {
      "text/plain": [
       "{'name': 'pooja',\n",
       " 'age': 38,\n",
       " 'salary': 35000,\n",
       " 'hobby': ['coding', 'puzzle'],\n",
       " 'gender': 'female'}"
      ]
     },
     "execution_count": 36,
     "metadata": {},
     "output_type": "execute_result"
    }
   ],
   "source": [
    "detail"
   ]
  },
  {
   "cell_type": "code",
   "execution_count": 37,
   "id": "8616d0c1-821a-4461-8e80-719763d0f55e",
   "metadata": {},
   "outputs": [
    {
     "data": {
      "text/plain": [
       "'female'"
      ]
     },
     "execution_count": 37,
     "metadata": {},
     "output_type": "execute_result"
    }
   ],
   "source": [
    "detail.get('gender')"
   ]
  },
  {
   "cell_type": "markdown",
   "id": "a63283d6-effe-480e-9c87-f3a3ba5ed9f0",
   "metadata": {},
   "source": [
    "## Get Keys\n",
    "The keys() method will return a list of all the keys in the dictionary."
   ]
  },
  {
   "cell_type": "code",
   "execution_count": 38,
   "id": "2dc188b2-c7a0-4bca-a7f8-0ecb243c97d2",
   "metadata": {},
   "outputs": [
    {
     "data": {
      "text/plain": [
       "dict_keys(['dishes', 'price'])"
      ]
     },
     "execution_count": 38,
     "metadata": {},
     "output_type": "execute_result"
    }
   ],
   "source": [
    "menu.keys()"
   ]
  },
  {
   "cell_type": "code",
   "execution_count": 41,
   "id": "a9bec350-630f-4a2f-9fe6-23c2e5f6e196",
   "metadata": {},
   "outputs": [
    {
     "data": {
      "text/plain": [
       "['name', 'age', 'salary', 'hobby', 'gender']"
      ]
     },
     "execution_count": 41,
     "metadata": {},
     "output_type": "execute_result"
    }
   ],
   "source": [
    "list(detail.keys())"
   ]
  },
  {
   "cell_type": "markdown",
   "id": "d217c4dc-7db8-437b-9486-788b2376979b",
   "metadata": {},
   "source": [
    "## Get Values\n",
    "The values() method will return a list of all the values in the dictionary."
   ]
  },
  {
   "cell_type": "code",
   "execution_count": 42,
   "id": "01fbaf8a-ce07-49a8-a316-66de5f214d9a",
   "metadata": {},
   "outputs": [
    {
     "data": {
      "text/plain": [
       "dict_values([['maggi', 'pasta', 'pizza'], [20, 30, 50]])"
      ]
     },
     "execution_count": 42,
     "metadata": {},
     "output_type": "execute_result"
    }
   ],
   "source": [
    "menu.values()"
   ]
  },
  {
   "cell_type": "code",
   "execution_count": 43,
   "id": "ea430258-3994-4475-8b44-941d8191d4fa",
   "metadata": {},
   "outputs": [
    {
     "data": {
      "text/plain": [
       "dict_values(['pooja', 38, 35000, ['coding', 'puzzle'], 'female'])"
      ]
     },
     "execution_count": 43,
     "metadata": {},
     "output_type": "execute_result"
    }
   ],
   "source": [
    "detail.values()"
   ]
  },
  {
   "cell_type": "code",
   "execution_count": 44,
   "id": "5e0f25cc-9d20-42de-9b11-9e6fc6c8ee4f",
   "metadata": {},
   "outputs": [
    {
     "data": {
      "text/plain": [
       "dict_values(['pooja', 'Abhay', 'Nam', 'twinkle'])"
      ]
     },
     "execution_count": 44,
     "metadata": {},
     "output_type": "execute_result"
    }
   ],
   "source": [
    "emp.values()"
   ]
  },
  {
   "cell_type": "markdown",
   "id": "c3fe87aa-65e0-47c5-9a5d-83009a268dce",
   "metadata": {},
   "source": [
    "## Get Items\n",
    "The items() method will return each item in a dictionary, as tuples in a list. Get a list of the key:value pairs"
   ]
  },
  {
   "cell_type": "code",
   "execution_count": 45,
   "id": "8ac4f847-39d6-4cc8-9820-b7f109b8369a",
   "metadata": {},
   "outputs": [
    {
     "data": {
      "text/plain": [
       "dict_items([('dishes', ['maggi', 'pasta', 'pizza']), ('price', [20, 30, 50])])"
      ]
     },
     "execution_count": 45,
     "metadata": {},
     "output_type": "execute_result"
    }
   ],
   "source": [
    "menu.items()"
   ]
  },
  {
   "cell_type": "code",
   "execution_count": 46,
   "id": "1aecbbfe-1d09-4f26-9535-fc17bf171952",
   "metadata": {},
   "outputs": [],
   "source": [
    "i,j=('dishes', ['maggi', 'pasta', 'pizza'])"
   ]
  },
  {
   "cell_type": "code",
   "execution_count": 47,
   "id": "a01fdbcd-273f-4811-a434-a13499bdb538",
   "metadata": {},
   "outputs": [
    {
     "data": {
      "text/plain": [
       "'dishes'"
      ]
     },
     "execution_count": 47,
     "metadata": {},
     "output_type": "execute_result"
    }
   ],
   "source": [
    "i"
   ]
  },
  {
   "cell_type": "code",
   "execution_count": 49,
   "id": "ed2ee231-ff63-487f-8c8b-e44cf768f722",
   "metadata": {},
   "outputs": [
    {
     "data": {
      "text/plain": [
       "['maggi', 'pasta', 'pizza']"
      ]
     },
     "execution_count": 49,
     "metadata": {},
     "output_type": "execute_result"
    }
   ],
   "source": [
    "j"
   ]
  },
  {
   "cell_type": "markdown",
   "id": "2fc64743-d660-4099-aee7-941628ec1c5e",
   "metadata": {},
   "source": [
    "# Changeable\n",
    "Dictionaries are changeable, meaning that we can change, add or remove items after the dictionary has been created."
   ]
  },
  {
   "cell_type": "code",
   "execution_count": 50,
   "id": "d9d2c3f9-5454-42ee-8d59-c3d8f5032746",
   "metadata": {},
   "outputs": [
    {
     "data": {
      "text/plain": [
       "{101: 'pooja', 102: 'Abhay', 103: 'Nam', 104: 'twinkle'}"
      ]
     },
     "execution_count": 50,
     "metadata": {},
     "output_type": "execute_result"
    }
   ],
   "source": [
    "emp"
   ]
  },
  {
   "cell_type": "code",
   "execution_count": 52,
   "id": "20b309f5-e6b5-4ce8-a4f5-cc41fedc1850",
   "metadata": {},
   "outputs": [],
   "source": [
    "emp[103] = 'sahil'"
   ]
  },
  {
   "cell_type": "code",
   "execution_count": 53,
   "id": "a955fae5-aeb8-4bb8-b6a2-62fa61f3b27a",
   "metadata": {},
   "outputs": [
    {
     "data": {
      "text/plain": [
       "{101: 'pooja', 102: 'Abhay', 103: 'sahil', 104: 'twinkle'}"
      ]
     },
     "execution_count": 53,
     "metadata": {},
     "output_type": "execute_result"
    }
   ],
   "source": [
    "emp"
   ]
  },
  {
   "cell_type": "code",
   "execution_count": 55,
   "id": "55dc01c4-9960-46e7-ba7b-9b9fb47f7688",
   "metadata": {},
   "outputs": [],
   "source": [
    "emp[105] = 'Nancy'"
   ]
  },
  {
   "cell_type": "code",
   "execution_count": 56,
   "id": "48627d6f-fd6e-4945-92f4-d450968eff59",
   "metadata": {},
   "outputs": [
    {
     "data": {
      "text/plain": [
       "{101: 'pooja', 102: 'Abhay', 103: 'sahil', 104: 'twinkle', 105: 'Nancy'}"
      ]
     },
     "execution_count": 56,
     "metadata": {},
     "output_type": "execute_result"
    }
   ],
   "source": [
    "emp"
   ]
  },
  {
   "cell_type": "code",
   "execution_count": 57,
   "id": "109f5276-0c0e-4a13-8c0d-359ca0c61518",
   "metadata": {},
   "outputs": [
    {
     "data": {
      "text/plain": [
       "{'dishes': ['maggi', 'pasta', 'pizza'], 'price': [20, 30, 50]}"
      ]
     },
     "execution_count": 57,
     "metadata": {},
     "output_type": "execute_result"
    }
   ],
   "source": [
    "menu"
   ]
  },
  {
   "cell_type": "code",
   "execution_count": 59,
   "id": "19e5293b-dfac-4e9b-8d3d-88b2fc32fdc5",
   "metadata": {},
   "outputs": [],
   "source": [
    "menu['dishes'] = ['maggi', 'pasta', 'pizza','noodles']"
   ]
  },
  {
   "cell_type": "code",
   "execution_count": 60,
   "id": "107757b0-9f47-4dfd-a7df-1c7dfb313d6e",
   "metadata": {},
   "outputs": [
    {
     "data": {
      "text/plain": [
       "{'dishes': ['maggi', 'pasta', 'pizza', 'noodles'], 'price': [20, 30, 50]}"
      ]
     },
     "execution_count": 60,
     "metadata": {},
     "output_type": "execute_result"
    }
   ],
   "source": [
    "menu"
   ]
  },
  {
   "cell_type": "code",
   "execution_count": 62,
   "id": "04926dae-b0c5-4079-91f4-8b76b2b598a5",
   "metadata": {},
   "outputs": [],
   "source": [
    "menu['price'].append(70)"
   ]
  },
  {
   "cell_type": "code",
   "execution_count": 63,
   "id": "0cc8724d-7912-4d96-baac-8ac905c85d82",
   "metadata": {},
   "outputs": [
    {
     "data": {
      "text/plain": [
       "{'dishes': ['maggi', 'pasta', 'pizza', 'noodles'], 'price': [20, 30, 50, 70]}"
      ]
     },
     "execution_count": 63,
     "metadata": {},
     "output_type": "execute_result"
    }
   ],
   "source": [
    "menu"
   ]
  },
  {
   "cell_type": "code",
   "execution_count": 64,
   "id": "5d2cd407-8d2d-4f49-b857-8e8900e2b2ff",
   "metadata": {},
   "outputs": [],
   "source": [
    "menu['drinks'] = ['orange juice','hot milk','shakes']"
   ]
  },
  {
   "cell_type": "code",
   "execution_count": 65,
   "id": "a936a4e5-0ade-4802-acbf-effb3f45ec4c",
   "metadata": {},
   "outputs": [
    {
     "data": {
      "text/plain": [
       "{'dishes': ['maggi', 'pasta', 'pizza', 'noodles'],\n",
       " 'price': [20, 30, 50, 70],\n",
       " 'drinks': ['orange juice', 'hot milk', 'shakes']}"
      ]
     },
     "execution_count": 65,
     "metadata": {},
     "output_type": "execute_result"
    }
   ],
   "source": [
    "menu"
   ]
  },
  {
   "cell_type": "code",
   "execution_count": 68,
   "id": "38fb8a16-45a4-49cd-b3a6-38855613b1a2",
   "metadata": {},
   "outputs": [],
   "source": [
    "menu['drinks'][1] = 'Hot chocolate milk'"
   ]
  },
  {
   "cell_type": "code",
   "execution_count": 69,
   "id": "0eb06d12-fae6-4757-9f10-b871fa1a47b6",
   "metadata": {},
   "outputs": [
    {
     "data": {
      "text/plain": [
       "{'dishes': ['maggi', 'pasta', 'pizza', 'noodles'],\n",
       " 'price': [20, 30, 50, 70],\n",
       " 'drinks': ['orange juice', 'Hot chocolate milk', 'shakes']}"
      ]
     },
     "execution_count": 69,
     "metadata": {},
     "output_type": "execute_result"
    }
   ],
   "source": [
    "menu"
   ]
  },
  {
   "cell_type": "markdown",
   "id": "3b43380a-b93c-4656-9854-3642f5ada47e",
   "metadata": {},
   "source": [
    "# Removing Items\n",
    "- pop() method removes the item with the specified key name\n",
    "- popitem() method removes the last inserted item (in versions before 3.7, a random item is removed instead)\n",
    "- del keyword removes the item with the specified key name as well as delete the dictionary completely\n",
    "- clear() method empties the dictionary"
   ]
  },
  {
   "cell_type": "code",
   "execution_count": 71,
   "id": "11bf869d-e830-4e44-aec0-dc70fe075e74",
   "metadata": {},
   "outputs": [
    {
     "data": {
      "text/plain": [
       "{101: 'pooja', 102: 'Abhay', 103: 'sahil', 104: 'twinkle', 105: 'Nancy'}"
      ]
     },
     "execution_count": 71,
     "metadata": {},
     "output_type": "execute_result"
    }
   ],
   "source": [
    "emp"
   ]
  },
  {
   "cell_type": "code",
   "execution_count": 72,
   "id": "ea4db7e2-8d29-4207-8aef-2bdd67528538",
   "metadata": {},
   "outputs": [],
   "source": [
    "e1 = emp"
   ]
  },
  {
   "cell_type": "code",
   "execution_count": 73,
   "id": "d7c1e3f4-72fe-41f0-a706-3a3bb2954afa",
   "metadata": {},
   "outputs": [
    {
     "data": {
      "text/plain": [
       "True"
      ]
     },
     "execution_count": 73,
     "metadata": {},
     "output_type": "execute_result"
    }
   ],
   "source": [
    "e1 is emp"
   ]
  },
  {
   "cell_type": "markdown",
   "id": "81e8132c-17ce-422e-8a3a-b79ac64c67c4",
   "metadata": {},
   "source": [
    "# Copy a Dictionary\n",
    "You cannot copy a dictionary simply by typing dict2 = dict1, because: dict2 will only be a reference to dict1, and changes made in dict1 will automatically also be made in dict2.\n",
    "\n",
    "There are ways to make a copy, one way is to use the built-in Dictionary method copy()."
   ]
  },
  {
   "cell_type": "code",
   "execution_count": 74,
   "id": "2a2523d2-b8b0-4409-9dcc-ed6d02bfa01a",
   "metadata": {},
   "outputs": [],
   "source": [
    "e2 = emp.copy()"
   ]
  },
  {
   "cell_type": "code",
   "execution_count": 75,
   "id": "f06d5e5e-474e-48b5-a0b4-7b9e9ec878a2",
   "metadata": {},
   "outputs": [
    {
     "data": {
      "text/plain": [
       "False"
      ]
     },
     "execution_count": 75,
     "metadata": {},
     "output_type": "execute_result"
    }
   ],
   "source": [
    "e2 is emp"
   ]
  },
  {
   "cell_type": "code",
   "execution_count": 76,
   "id": "ce4a9a9a-efe4-4604-a592-ce05587d903d",
   "metadata": {},
   "outputs": [
    {
     "data": {
      "text/plain": [
       "(105, 'Nancy')"
      ]
     },
     "execution_count": 76,
     "metadata": {},
     "output_type": "execute_result"
    }
   ],
   "source": [
    "emp.popitem()"
   ]
  },
  {
   "cell_type": "code",
   "execution_count": 77,
   "id": "8ba4949a-6a58-4391-b6d7-ac2d090579f1",
   "metadata": {},
   "outputs": [
    {
     "data": {
      "text/plain": [
       "{101: 'pooja', 102: 'Abhay', 103: 'sahil', 104: 'twinkle'}"
      ]
     },
     "execution_count": 77,
     "metadata": {},
     "output_type": "execute_result"
    }
   ],
   "source": [
    "emp"
   ]
  },
  {
   "cell_type": "code",
   "execution_count": 78,
   "id": "6223741a-26c7-48b5-b540-d33807f4d2a5",
   "metadata": {},
   "outputs": [
    {
     "data": {
      "text/plain": [
       "'sahil'"
      ]
     },
     "execution_count": 78,
     "metadata": {},
     "output_type": "execute_result"
    }
   ],
   "source": [
    "emp.pop(103)"
   ]
  },
  {
   "cell_type": "code",
   "execution_count": 79,
   "id": "c6e84f12-3736-47e7-af0b-dbe99c65fc8f",
   "metadata": {},
   "outputs": [
    {
     "data": {
      "text/plain": [
       "{101: 'pooja', 102: 'Abhay', 104: 'twinkle'}"
      ]
     },
     "execution_count": 79,
     "metadata": {},
     "output_type": "execute_result"
    }
   ],
   "source": [
    "emp"
   ]
  },
  {
   "cell_type": "code",
   "execution_count": 80,
   "id": "ea67c180-67e9-4c88-828b-2933f3aa95c7",
   "metadata": {},
   "outputs": [
    {
     "data": {
      "text/plain": [
       "{101: 'pooja', 102: 'Abhay', 104: 'twinkle'}"
      ]
     },
     "execution_count": 80,
     "metadata": {},
     "output_type": "execute_result"
    }
   ],
   "source": [
    "e1"
   ]
  },
  {
   "cell_type": "code",
   "execution_count": 81,
   "id": "d45b35ca-5d4c-49f7-be53-58351a609885",
   "metadata": {},
   "outputs": [
    {
     "data": {
      "text/plain": [
       "{101: 'pooja', 102: 'Abhay', 103: 'sahil', 104: 'twinkle', 105: 'Nancy'}"
      ]
     },
     "execution_count": 81,
     "metadata": {},
     "output_type": "execute_result"
    }
   ],
   "source": [
    "e2"
   ]
  },
  {
   "cell_type": "code",
   "execution_count": 82,
   "id": "c4af74d0-dbbc-4e27-a776-99075f0cf8b5",
   "metadata": {},
   "outputs": [],
   "source": [
    "emp.clear()"
   ]
  },
  {
   "cell_type": "code",
   "execution_count": 83,
   "id": "4fccad5c-6cf7-4a53-a1c3-94171dc4fa2f",
   "metadata": {},
   "outputs": [
    {
     "data": {
      "text/plain": [
       "{}"
      ]
     },
     "execution_count": 83,
     "metadata": {},
     "output_type": "execute_result"
    }
   ],
   "source": [
    "emp"
   ]
  },
  {
   "cell_type": "code",
   "execution_count": 84,
   "id": "759b9188-7088-486a-9693-34b8aff8446d",
   "metadata": {},
   "outputs": [
    {
     "data": {
      "text/plain": [
       "{}"
      ]
     },
     "execution_count": 84,
     "metadata": {},
     "output_type": "execute_result"
    }
   ],
   "source": [
    "e1"
   ]
  },
  {
   "cell_type": "code",
   "execution_count": 85,
   "id": "1ac888d6-7ae8-4bfe-9f0b-955479ccc324",
   "metadata": {},
   "outputs": [],
   "source": [
    "del emp"
   ]
  },
  {
   "cell_type": "code",
   "execution_count": 86,
   "id": "8be433e5-605b-4400-88b0-f3bf3a2cf056",
   "metadata": {},
   "outputs": [
    {
     "ename": "NameError",
     "evalue": "name 'emp' is not defined",
     "output_type": "error",
     "traceback": [
      "\u001b[1;31m---------------------------------------------------------------------------\u001b[0m",
      "\u001b[1;31mNameError\u001b[0m                                 Traceback (most recent call last)",
      "Cell \u001b[1;32mIn[86], line 1\u001b[0m\n\u001b[1;32m----> 1\u001b[0m emp\n",
      "\u001b[1;31mNameError\u001b[0m: name 'emp' is not defined"
     ]
    }
   ],
   "source": [
    "emp"
   ]
  },
  {
   "cell_type": "markdown",
   "id": "c9ac357e-96e4-4002-aa43-048edeed2d9a",
   "metadata": {},
   "source": [
    "# Dictionary Length:len() function"
   ]
  },
  {
   "cell_type": "code",
   "execution_count": 87,
   "id": "2554f0a2-47a0-4107-9090-12e94f71e204",
   "metadata": {},
   "outputs": [
    {
     "data": {
      "text/plain": [
       "5"
      ]
     },
     "execution_count": 87,
     "metadata": {},
     "output_type": "execute_result"
    }
   ],
   "source": [
    "len(detail)"
   ]
  },
  {
   "cell_type": "markdown",
   "id": "c46b4ea0-8401-4527-9390-22dea1a94c7c",
   "metadata": {},
   "source": [
    "# while loop through dictionary is not possible"
   ]
  },
  {
   "cell_type": "code",
   "execution_count": 94,
   "id": "9af33373-11d9-4a4f-96ba-7638414253ff",
   "metadata": {},
   "outputs": [
    {
     "data": {
      "text/plain": [
       "{'dishes': ['maggi', 'pasta', 'pizza'], 'price': [20, 30, 50]}"
      ]
     },
     "execution_count": 94,
     "metadata": {},
     "output_type": "execute_result"
    }
   ],
   "source": [
    "menu"
   ]
  },
  {
   "cell_type": "code",
   "execution_count": 99,
   "id": "6a64ff1f-a74a-458f-8582-c5ff012ef338",
   "metadata": {},
   "outputs": [
    {
     "data": {
      "text/plain": [
       "['dishes', 'price']"
      ]
     },
     "execution_count": 99,
     "metadata": {},
     "output_type": "execute_result"
    }
   ],
   "source": [
    "k = list(menu.keys())\n",
    "k"
   ]
  },
  {
   "cell_type": "code",
   "execution_count": 101,
   "id": "3dbad0d9-f442-4144-9b39-3521b5e37240",
   "metadata": {},
   "outputs": [
    {
     "name": "stdout",
     "output_type": "stream",
     "text": [
      "dishes:::['maggi', 'pasta', 'pizza']\n",
      "price:::[20, 30, 50]\n"
     ]
    }
   ],
   "source": [
    "i =0 \n",
    "while i <len(k):\n",
    "    print(f\"{k[i]}:::{menu[k[i]]}\")\n",
    "    i += 1"
   ]
  },
  {
   "cell_type": "markdown",
   "id": "422aa736-dc86-40e1-b4f1-17c9e22d7aee",
   "metadata": {},
   "source": [
    "# for loop through dictionary"
   ]
  },
  {
   "cell_type": "code",
   "execution_count": 102,
   "id": "fcc08781-3ba6-4631-b2f8-d5eec6243bf1",
   "metadata": {},
   "outputs": [
    {
     "data": {
      "text/plain": [
       "{'name': 'pooja',\n",
       " 'age': 38,\n",
       " 'salary': 35000,\n",
       " 'hobby': ['coding', 'puzzle'],\n",
       " 'gender': 'female'}"
      ]
     },
     "execution_count": 102,
     "metadata": {},
     "output_type": "execute_result"
    }
   ],
   "source": [
    "detail"
   ]
  },
  {
   "cell_type": "code",
   "execution_count": 105,
   "id": "58f228bc-40a8-49bb-ae4d-f66da5435421",
   "metadata": {},
   "outputs": [
    {
     "name": "stdout",
     "output_type": "stream",
     "text": [
      "name\n",
      "age\n",
      "salary\n",
      "hobby\n",
      "gender\n"
     ]
    }
   ],
   "source": [
    "for x in detail:\n",
    "    print(x)"
   ]
  },
  {
   "cell_type": "code",
   "execution_count": 109,
   "id": "f689ff76-c46b-4bbd-a7b1-3b67c214f75d",
   "metadata": {},
   "outputs": [
    {
     "name": "stdout",
     "output_type": "stream",
     "text": [
      "name\n",
      "age\n",
      "salary\n",
      "hobby\n",
      "gender\n"
     ]
    }
   ],
   "source": [
    "for x in detail.keys():\n",
    "    print(x)"
   ]
  },
  {
   "cell_type": "code",
   "execution_count": 106,
   "id": "70915bda-5819-49af-9473-890d255c0f47",
   "metadata": {},
   "outputs": [
    {
     "name": "stdout",
     "output_type": "stream",
     "text": [
      "name pooja\n",
      "age 38\n",
      "salary 35000\n",
      "hobby ['coding', 'puzzle']\n",
      "gender female\n"
     ]
    }
   ],
   "source": [
    "for x in detail:\n",
    "    print(x,detail[x])"
   ]
  },
  {
   "cell_type": "code",
   "execution_count": 107,
   "id": "74eb70ed-e7f4-4a07-bc6e-171ee419c17e",
   "metadata": {},
   "outputs": [
    {
     "name": "stdout",
     "output_type": "stream",
     "text": [
      "pooja\n",
      "38\n",
      "35000\n",
      "['coding', 'puzzle']\n",
      "female\n"
     ]
    }
   ],
   "source": [
    "for x in detail:\n",
    "    print(detail[x])"
   ]
  },
  {
   "cell_type": "code",
   "execution_count": 108,
   "id": "d1014015-d1e9-4a04-9d14-a46b902f2aee",
   "metadata": {},
   "outputs": [
    {
     "name": "stdout",
     "output_type": "stream",
     "text": [
      "pooja\n",
      "38\n",
      "35000\n",
      "['coding', 'puzzle']\n",
      "female\n"
     ]
    }
   ],
   "source": [
    "for x in detail.values():\n",
    "    print(x)"
   ]
  },
  {
   "cell_type": "code",
   "execution_count": 110,
   "id": "de21df37-f2ef-40e4-8a96-643c8ee0e3f8",
   "metadata": {},
   "outputs": [
    {
     "name": "stdout",
     "output_type": "stream",
     "text": [
      "('name', 'pooja')\n",
      "('age', 38)\n",
      "('salary', 35000)\n",
      "('hobby', ['coding', 'puzzle'])\n",
      "('gender', 'female')\n"
     ]
    }
   ],
   "source": [
    "for x in detail.items():\n",
    "    print(x)"
   ]
  },
  {
   "cell_type": "code",
   "execution_count": 111,
   "id": "ce846739-3f38-4eb2-93c5-9015351b80ae",
   "metadata": {},
   "outputs": [
    {
     "name": "stdout",
     "output_type": "stream",
     "text": [
      "name ::: pooja\n",
      "age ::: 38\n",
      "salary ::: 35000\n",
      "hobby ::: ['coding', 'puzzle']\n",
      "gender ::: female\n"
     ]
    }
   ],
   "source": [
    "for k,v in detail.items():\n",
    "    print(k,\":::\",v)"
   ]
  },
  {
   "cell_type": "raw",
   "id": "ba29b6d4-800b-491c-99aa-7412bbe26824",
   "metadata": {},
   "source": [
    "************************************************** \n",
    "                      MENU\n",
    "**************************************************\n",
    "           Dishes          Prices\n",
    "           maggi            100\n",
    "           pasta            120\n",
    "           pizza            150\n"
   ]
  },
  {
   "cell_type": "code",
   "execution_count": 126,
   "id": "c965469b-2667-4d53-9b55-4b94b63df541",
   "metadata": {},
   "outputs": [
    {
     "data": {
      "text/plain": [
       "{'dishes': ['maggi', 'pasta', 'pizza', 'sandwitch'], 'price': [20, 30, 50, 80]}"
      ]
     },
     "execution_count": 126,
     "metadata": {},
     "output_type": "execute_result"
    }
   ],
   "source": [
    "menu"
   ]
  },
  {
   "cell_type": "code",
   "execution_count": 127,
   "id": "5fd5234a-15ae-43ea-901b-86c96311cae0",
   "metadata": {},
   "outputs": [
    {
     "data": {
      "text/plain": [
       "dict_values([['maggi', 'pasta', 'pizza', 'sandwitch'], [20, 30, 50, 80]])"
      ]
     },
     "execution_count": 127,
     "metadata": {},
     "output_type": "execute_result"
    }
   ],
   "source": [
    "menu.values()"
   ]
  },
  {
   "cell_type": "code",
   "execution_count": 128,
   "id": "f52cff73-6d47-4765-aca0-b80b45a31105",
   "metadata": {},
   "outputs": [
    {
     "name": "stdout",
     "output_type": "stream",
     "text": [
      "************************************************** \n",
      "                        MENU                        \n",
      " **************************************************\n",
      "           DISHES            PRICE\n",
      "           maggi             Rs 20\n",
      "           pasta             Rs 30\n",
      "           pizza             Rs 50\n",
      "           sandwitch             Rs 80\n"
     ]
    }
   ],
   "source": [
    "print(\"*\"*50,\"\\n\",'MENU'.center(50),\"\\n\",\"*\"*50)\n",
    "print(\" \"*10,\"DISHES\",\" \"*10,'PRICE')\n",
    "v= list(menu.values())\n",
    "for i in range(len(v[0])):\n",
    "    print(\" \"*10,v[0][i],\" \"*11,\"Rs\",v[1][i])"
   ]
  },
  {
   "cell_type": "raw",
   "id": "39e025f2-1c9d-49ce-b88b-e53da85b0d14",
   "metadata": {},
   "source": [
    "Questions on dictionary:\n",
    "1. Write a Python program to convert them into a dictionary in a way that item from list1 is the key and item from list2 is the value\n",
    "        keys = ['Ten', 'Twenty', 'Thirty']\n",
    "        values = [10, 20, 30]\n",
    "        Expected output: {'Ten': 10, 'Twenty': 20, 'Thirty': 30}\n",
    "2. Merge two Python dictionaries into one\n",
    "       dict1 = {'Ten': 10, 'Twenty': 20, 'Thirty': 30}\n",
    "       dict2 = {'Thirty': 30, 'Fourty': 40, 'Fifty': 50}\n",
    "      Expected output: {'Ten': 10, 'Twenty': 20, 'Thirty': 30, 'Fourty': 40, 'Fifty': 50}\n",
    "3. Delete a list of keys from a dictionary\n",
    "Given: sample_dict = {\n",
    "    \"name\": \"Kelly\",\n",
    "    \"age\": 25,\n",
    "    \"salary\": 8000,\n",
    "    \"city\": \"New york\"\n",
    "}\n",
    "\n",
    "# Keys to remove\n",
    "keys = [\"name\", \"salary\"]\n",
    "Expected output: {'city': 'New york', 'age': 25}\n",
    "4. Write a Python program to check if value 200 exists in the following dictionary.\n",
    "    Given: sample_dict = {'a': 100, 'b': 200, 'c': 300}\n",
    "Expected output: 200 present in a dict\n",
    "5. Get the key of a minimum value from the following dictionary\n",
    "sample_dict = {\n",
    "  'Physics': 82,\n",
    "  'Math': 65,\n",
    "  'history': 75\n",
    "}\n",
    "Expected output: Math\n",
    "6. Write a program to rename a key city to a location in the following dictionary.\n",
    "Given: sample_dict = {\n",
    "  \"name\": \"Kelly\",\n",
    "  \"age\":25,\n",
    "  \"salary\": 8000,\n",
    "  \"city\": \"New york\"\n",
    "}\n",
    "Expected output: {'name': 'Kelly', 'age': 25, 'salary': 8000, 'location': 'New york'}"
   ]
  },
  {
   "cell_type": "code",
   "execution_count": 172,
   "id": "efd38179-d43e-4ea5-9f1d-b007a3c0b08c",
   "metadata": {},
   "outputs": [],
   "source": [
    "emp = {}"
   ]
  },
  {
   "cell_type": "code",
   "execution_count": 173,
   "id": "5ace95be-9389-4e18-bb0e-c3ac0ebcac40",
   "metadata": {},
   "outputs": [
    {
     "data": {
      "text/plain": [
       "{}"
      ]
     },
     "execution_count": 173,
     "metadata": {},
     "output_type": "execute_result"
    }
   ],
   "source": [
    "emp"
   ]
  },
  {
   "cell_type": "code",
   "execution_count": 160,
   "id": "56de49f3-2d14-48c5-a2f9-6ad5f1d860e4",
   "metadata": {},
   "outputs": [],
   "source": [
    "k = ['name','age','salary','dept']"
   ]
  },
  {
   "cell_type": "markdown",
   "id": "f02fe2bd-88ee-430a-9a50-90edbe220b6f",
   "metadata": {},
   "source": [
    "# fromkeys() method \n",
    "The fromkeys method in Python is used to create a new dictionary with specified keys and a common value. This can be particularly useful when you need to initialize a dictionary with a set of keys and a default value."
   ]
  },
  {
   "cell_type": "code",
   "execution_count": 176,
   "id": "4723f6c8-ffc4-4d71-b708-ff561a060786",
   "metadata": {},
   "outputs": [],
   "source": [
    "emp=emp.fromkeys(k,'unmamed')"
   ]
  },
  {
   "cell_type": "code",
   "execution_count": 177,
   "id": "490a6feb-a53e-470e-b2b3-a8eeecb7c608",
   "metadata": {},
   "outputs": [
    {
     "data": {
      "text/plain": [
       "{'name': 'unmamed', 'age': 'unmamed', 'salary': 'unmamed', 'dept': 'unmamed'}"
      ]
     },
     "execution_count": 177,
     "metadata": {},
     "output_type": "execute_result"
    }
   ],
   "source": [
    "emp"
   ]
  },
  {
   "cell_type": "code",
   "execution_count": 179,
   "id": "41d8de8d-44f1-448f-b561-c9feadc85f59",
   "metadata": {},
   "outputs": [],
   "source": [
    "emp['age'] = 36"
   ]
  },
  {
   "cell_type": "code",
   "execution_count": 180,
   "id": "3bac0fd1-9885-40a4-96ac-a460d28c8ca4",
   "metadata": {},
   "outputs": [
    {
     "data": {
      "text/plain": [
       "{'name': 'unmamed', 'age': 36, 'salary': 'unmamed', 'dept': 'unmamed'}"
      ]
     },
     "execution_count": 180,
     "metadata": {},
     "output_type": "execute_result"
    }
   ],
   "source": [
    "emp"
   ]
  },
  {
   "cell_type": "code",
   "execution_count": 136,
   "id": "99fd7b49-acca-4e3c-acd2-68ed680589dd",
   "metadata": {},
   "outputs": [
    {
     "data": {
      "text/plain": [
       "[('Ten', 10, 100), ('Twenty', 20, 200), ('Thirty', 30, 300)]"
      ]
     },
     "execution_count": 136,
     "metadata": {},
     "output_type": "execute_result"
    }
   ],
   "source": [
    "keys = ['Ten', 'Twenty', 'Thirty']\n",
    "values = [10, 20, 30,40]\n",
    "l1 = [100,200,300]\n",
    "\n",
    "list(zip(keys,values,l1))"
   ]
  },
  {
   "cell_type": "code",
   "execution_count": 162,
   "id": "4767fdd9-0a82-4ce7-ae5e-36e92abf0dbe",
   "metadata": {},
   "outputs": [
    {
     "data": {
      "text/plain": [
       "{'name': 'pooja',\n",
       " 'age': 38,\n",
       " 'salary': 35000,\n",
       " 'hobby': ['coding', 'puzzle'],\n",
       " 'gender': 'female'}"
      ]
     },
     "execution_count": 162,
     "metadata": {},
     "output_type": "execute_result"
    }
   ],
   "source": [
    "detail"
   ]
  },
  {
   "cell_type": "markdown",
   "id": "b63e8445-6bd3-4caf-a45d-554ee75bdaa6",
   "metadata": {},
   "source": [
    "# setdefault() method"
   ]
  },
  {
   "cell_type": "code",
   "execution_count": 163,
   "id": "2ea41d0a-1f36-4f1c-9a64-77984e6adc02",
   "metadata": {},
   "outputs": [
    {
     "data": {
      "text/plain": [
       "'pooja'"
      ]
     },
     "execution_count": 163,
     "metadata": {},
     "output_type": "execute_result"
    }
   ],
   "source": [
    "detail.setdefault('name')"
   ]
  },
  {
   "cell_type": "code",
   "execution_count": 164,
   "id": "51fc1a5d-30d7-4eb7-bc2f-43b318ac8d04",
   "metadata": {},
   "outputs": [],
   "source": [
    "detail.setdefault('dept')"
   ]
  },
  {
   "cell_type": "code",
   "execution_count": 165,
   "id": "127cbb26-8dc3-4f5a-9e6d-6da4e587c771",
   "metadata": {},
   "outputs": [
    {
     "data": {
      "text/plain": [
       "{'name': 'pooja',\n",
       " 'age': 38,\n",
       " 'salary': 35000,\n",
       " 'hobby': ['coding', 'puzzle'],\n",
       " 'gender': 'female',\n",
       " 'dept': None}"
      ]
     },
     "execution_count": 165,
     "metadata": {},
     "output_type": "execute_result"
    }
   ],
   "source": [
    "detail"
   ]
  },
  {
   "cell_type": "code",
   "execution_count": 167,
   "id": "778feb5f-c16a-438a-a9fa-90a9654bc145",
   "metadata": {},
   "outputs": [],
   "source": [
    "detail['dept'] = 'IT'"
   ]
  },
  {
   "cell_type": "code",
   "execution_count": 168,
   "id": "a65e0a32-68cf-4010-b3be-ffc85637368c",
   "metadata": {},
   "outputs": [
    {
     "data": {
      "text/plain": [
       "{'name': 'pooja',\n",
       " 'age': 38,\n",
       " 'salary': 35000,\n",
       " 'hobby': ['coding', 'puzzle'],\n",
       " 'gender': 'female',\n",
       " 'dept': 'IT'}"
      ]
     },
     "execution_count": 168,
     "metadata": {},
     "output_type": "execute_result"
    }
   ],
   "source": [
    "detail"
   ]
  },
  {
   "cell_type": "raw",
   "id": "916a8054-b5ab-424b-9966-433ed8ab3ffb",
   "metadata": {},
   "source": [
    "1. Write a Python program to convert them into a dictionary in a way that item from list1 is the key and item from list2 is the value\n",
    "        keys = ['Ten', 'Twenty', 'Thirty']\n",
    "        values = [10, 20, 30]\n",
    "        Expected output: {'Ten': 10, 'Twenty': 20, 'Thirty': 30}"
   ]
  },
  {
   "cell_type": "code",
   "execution_count": 185,
   "id": "d2f76387-8f45-4466-a3bf-fe44462884c7",
   "metadata": {},
   "outputs": [
    {
     "name": "stdout",
     "output_type": "stream",
     "text": [
      "{'Ten': 10, 'Twenty': 20, 'Thirty': 30}\n"
     ]
    }
   ],
   "source": [
    "keys = ['Ten', 'Twenty', 'Thirty']\n",
    "values = [10, 20, 30]\n",
    "\n",
    "d1=dict(list(zip(keys,values)))\n",
    "print(d1)"
   ]
  },
  {
   "cell_type": "code",
   "execution_count": 182,
   "id": "a435e01b-c765-4299-a804-4a51ccd725b2",
   "metadata": {},
   "outputs": [
    {
     "name": "stdout",
     "output_type": "stream",
     "text": [
      "{'Ten': 10, 'Twenty': 20, 'Thirty': 30}\n"
     ]
    }
   ],
   "source": [
    "keys = ['Ten', 'Twenty', 'Thirty']\n",
    "values = [10, 20, 30]\n",
    "final = {}\n",
    "for i in range(len(keys)):\n",
    "    final[keys[i]] = values[i]\n",
    "print(final)"
   ]
  },
  {
   "cell_type": "code",
   "execution_count": 184,
   "id": "cc411ad2-93c2-4da8-93ca-cce343f7f3dd",
   "metadata": {},
   "outputs": [
    {
     "data": {
      "text/plain": [
       "{'Ten': 10, 'Twenty': 20, 'Thirty': 30}"
      ]
     },
     "execution_count": 184,
     "metadata": {},
     "output_type": "execute_result"
    }
   ],
   "source": [
    "keys = ['Ten', 'Twenty', 'Thirty']\n",
    "values = [10, 20, 30]\n",
    "{keys[i]:values[i] for i in range(len(keys))}"
   ]
  },
  {
   "cell_type": "markdown",
   "id": "92247b9f-7830-482b-a429-5c45f93d2e0e",
   "metadata": {},
   "source": [
    "# Nested Dictionaries\n",
    "A dictionary can contain dictionaries, this is called nested dictionaries."
   ]
  },
  {
   "cell_type": "code",
   "execution_count": 22,
   "id": "46fb744b-2d7d-4d49-8077-886207401409",
   "metadata": {},
   "outputs": [],
   "source": [
    "student = {1:{'name':'pooja','age':38},2:{'name':'Abhay','age':21}}"
   ]
  },
  {
   "cell_type": "code",
   "execution_count": 23,
   "id": "0919591d-97a8-48f0-aabc-7081d00a504b",
   "metadata": {},
   "outputs": [
    {
     "data": {
      "text/plain": [
       "{'name': 'pooja', 'age': 38}"
      ]
     },
     "execution_count": 23,
     "metadata": {},
     "output_type": "execute_result"
    }
   ],
   "source": [
    "student[1]"
   ]
  },
  {
   "cell_type": "code",
   "execution_count": 24,
   "id": "931395ec-41a7-478a-9c33-c7df2022518a",
   "metadata": {},
   "outputs": [],
   "source": [
    "student[3]={'name':'twinkle','age':26}"
   ]
  },
  {
   "cell_type": "code",
   "execution_count": 25,
   "id": "51b9584c-da1c-40e5-8fd8-2d338dc412d7",
   "metadata": {},
   "outputs": [
    {
     "data": {
      "text/plain": [
       "{1: {'name': 'pooja', 'age': 38},\n",
       " 2: {'name': 'Abhay', 'age': 21},\n",
       " 3: {'name': 'twinkle', 'age': 26}}"
      ]
     },
     "execution_count": 25,
     "metadata": {},
     "output_type": "execute_result"
    }
   ],
   "source": [
    "student"
   ]
  },
  {
   "cell_type": "code",
   "execution_count": 26,
   "id": "96d18e34-efdb-4728-a22e-a7f03f273d71",
   "metadata": {},
   "outputs": [],
   "source": [
    "student[4]= dict([('name','nancy'),('age',20)])"
   ]
  },
  {
   "cell_type": "code",
   "execution_count": 27,
   "id": "0cb36b41-3849-4494-a364-3f9ef7cada73",
   "metadata": {},
   "outputs": [
    {
     "data": {
      "text/plain": [
       "{1: {'name': 'pooja', 'age': 38},\n",
       " 2: {'name': 'Abhay', 'age': 21},\n",
       " 3: {'name': 'twinkle', 'age': 26},\n",
       " 4: {'name': 'nancy', 'age': 20}}"
      ]
     },
     "execution_count": 27,
     "metadata": {},
     "output_type": "execute_result"
    }
   ],
   "source": [
    "student"
   ]
  },
  {
   "cell_type": "code",
   "execution_count": 28,
   "id": "f09d98f3-4da4-455f-8896-0d1f488b5545",
   "metadata": {},
   "outputs": [],
   "source": [
    "student[5] = dict(name='sachin',age=21)"
   ]
  },
  {
   "cell_type": "code",
   "execution_count": 9,
   "id": "654523bb-a352-4e1d-beca-6eadf44e8fa1",
   "metadata": {},
   "outputs": [
    {
     "data": {
      "text/plain": [
       "{1: {'name': 'pooja', 'age': 38},\n",
       " 2: {'name': 'Abhay', 'age': 21},\n",
       " 3: {'name': 'twinkle', 'age': 26},\n",
       " 4: {'name': 'nancy', 'age': 20},\n",
       " 5: {'name': 'sachin', 'age': 21}}"
      ]
     },
     "execution_count": 9,
     "metadata": {},
     "output_type": "execute_result"
    }
   ],
   "source": [
    "student"
   ]
  },
  {
   "cell_type": "markdown",
   "id": "ec693337-7ced-45e2-ac9c-2854ceaba0b5",
   "metadata": {},
   "source": [
    "# Access Items in Nested Dictionaries"
   ]
  },
  {
   "cell_type": "code",
   "execution_count": 29,
   "id": "25bd0734-5995-48fc-9ffd-72d98b161c93",
   "metadata": {},
   "outputs": [
    {
     "data": {
      "text/plain": [
       "{1: {'name': 'pooja', 'age': 38},\n",
       " 2: {'name': 'Abhay', 'age': 21},\n",
       " 3: {'name': 'twinkle', 'age': 26},\n",
       " 4: {'name': 'nancy', 'age': 20},\n",
       " 5: {'name': 'sachin', 'age': 21}}"
      ]
     },
     "execution_count": 29,
     "metadata": {},
     "output_type": "execute_result"
    }
   ],
   "source": [
    "student"
   ]
  },
  {
   "cell_type": "code",
   "execution_count": 12,
   "id": "985318d8-0f66-40cc-aac2-0aa378b5f6a7",
   "metadata": {},
   "outputs": [
    {
     "data": {
      "text/plain": [
       "'twinkle'"
      ]
     },
     "execution_count": 12,
     "metadata": {},
     "output_type": "execute_result"
    }
   ],
   "source": [
    "student[3]['name']"
   ]
  },
  {
   "cell_type": "code",
   "execution_count": 17,
   "id": "11cb2521-a9c8-42ba-90e8-9f9790cf10b7",
   "metadata": {},
   "outputs": [
    {
     "name": "stdout",
     "output_type": "stream",
     "text": [
      "**************************************************\n",
      "                 STUDENT DETAILS                  \n",
      "**************************************************\n",
      "      ROLL NO       NAME            AGE\n",
      "        1         pooja            38\n",
      "        2         Abhay            21\n",
      "        3         twinkle            26\n",
      "        4         nancy            20\n",
      "        5         sachin            21\n"
     ]
    }
   ],
   "source": [
    "print(\"*\"*50,\"\\n\",\"STUDENT DETAILS\".center(50),\"\\n\",\"*\"*50,sep=\"\")\n",
    "print(\" \"*5,\"ROLL NO\",\" \"*5,\"NAME\",\" \"*10,\"AGE\")\n",
    "\n",
    "for i in student:\n",
    "    print(\" \"*7,i,\" \"*7,student[i]['name'],\" \"*10,student[i]['age'])"
   ]
  },
  {
   "cell_type": "code",
   "execution_count": 18,
   "id": "90fc39e0-509b-4c2e-b2aa-e72656667e67",
   "metadata": {},
   "outputs": [
    {
     "data": {
      "text/plain": [
       "{1: {'name': 'pooja', 'age': 38},\n",
       " 2: {'name': 'Abhay', 'age': 21},\n",
       " 3: {'name': 'twinkle', 'age': 26},\n",
       " 4: {'name': 'nancy', 'age': 20},\n",
       " 5: {'name': 'sachin', 'age': 21}}"
      ]
     },
     "execution_count": 18,
     "metadata": {},
     "output_type": "execute_result"
    }
   ],
   "source": [
    "student"
   ]
  },
  {
   "cell_type": "code",
   "execution_count": 30,
   "id": "d256eb3e-1477-434a-a538-2b7361ad6ae4",
   "metadata": {},
   "outputs": [
    {
     "name": "stdin",
     "output_type": "stream",
     "text": [
      "Enter the hobby for roll no 1:: coding,puzzle\n",
      "Enter the hobby for roll no 2:: coding,cricket\n",
      "Enter the hobby for roll no 3:: reading\n",
      "Enter the hobby for roll no 4:: reading,cooking,coding\n",
      "Enter the hobby for roll no 5:: cricket,coding\n"
     ]
    }
   ],
   "source": [
    "for i in student:\n",
    "    hobby = input(f\"Enter the hobby for roll no {i}::\").split(\",\")\n",
    "    student[i]['hobby'] = hobby"
   ]
  },
  {
   "cell_type": "code",
   "execution_count": 31,
   "id": "efd5979f-ae86-45ed-87ab-ad7666dc758b",
   "metadata": {},
   "outputs": [
    {
     "data": {
      "text/plain": [
       "{1: {'name': 'pooja', 'age': 38, 'hobby': ['coding', 'puzzle']},\n",
       " 2: {'name': 'Abhay', 'age': 21, 'hobby': ['coding', 'cricket']},\n",
       " 3: {'name': 'twinkle', 'age': 26, 'hobby': ['reading']},\n",
       " 4: {'name': 'nancy', 'age': 20, 'hobby': ['reading', 'cooking', 'coding']},\n",
       " 5: {'name': 'sachin', 'age': 21, 'hobby': ['cricket', 'coding']}}"
      ]
     },
     "execution_count": 31,
     "metadata": {},
     "output_type": "execute_result"
    }
   ],
   "source": [
    "student"
   ]
  },
  {
   "cell_type": "markdown",
   "id": "c2f6123e-8bd1-4330-9255-982e950591ed",
   "metadata": {},
   "source": [
    "# DELETING ITEMS FROM NESTED DICTIONARY"
   ]
  },
  {
   "cell_type": "code",
   "execution_count": 32,
   "id": "b653107e-3138-4eb1-8465-88f59d6c70e9",
   "metadata": {},
   "outputs": [
    {
     "data": {
      "text/plain": [
       "{1: {'name': 'pooja', 'age': 38, 'hobby': ['coding', 'puzzle']},\n",
       " 2: {'name': 'Abhay', 'age': 21, 'hobby': ['coding', 'cricket']},\n",
       " 3: {'name': 'twinkle', 'age': 26, 'hobby': ['reading']},\n",
       " 4: {'name': 'nancy', 'age': 20, 'hobby': ['reading', 'cooking', 'coding']},\n",
       " 5: {'name': 'sachin', 'age': 21, 'hobby': ['cricket', 'coding']}}"
      ]
     },
     "execution_count": 32,
     "metadata": {},
     "output_type": "execute_result"
    }
   ],
   "source": [
    "student"
   ]
  },
  {
   "cell_type": "code",
   "execution_count": 33,
   "id": "b41d4358-bed1-4494-b38b-6ab5f729e114",
   "metadata": {},
   "outputs": [
    {
     "data": {
      "text/plain": [
       "(5, {'name': 'sachin', 'age': 21, 'hobby': ['cricket', 'coding']})"
      ]
     },
     "execution_count": 33,
     "metadata": {},
     "output_type": "execute_result"
    }
   ],
   "source": [
    "student.popitem()"
   ]
  },
  {
   "cell_type": "code",
   "execution_count": 34,
   "id": "9b09c25f-f30c-44fd-a89b-940fec404f39",
   "metadata": {},
   "outputs": [
    {
     "data": {
      "text/plain": [
       "{'name': 'twinkle', 'age': 26, 'hobby': ['reading']}"
      ]
     },
     "execution_count": 34,
     "metadata": {},
     "output_type": "execute_result"
    }
   ],
   "source": [
    "student.pop(3)"
   ]
  },
  {
   "cell_type": "code",
   "execution_count": 35,
   "id": "7d2fdaca-f985-4ede-a152-faa90ad595ac",
   "metadata": {},
   "outputs": [
    {
     "data": {
      "text/plain": [
       "{1: {'name': 'pooja', 'age': 38, 'hobby': ['coding', 'puzzle']},\n",
       " 2: {'name': 'Abhay', 'age': 21, 'hobby': ['coding', 'cricket']},\n",
       " 4: {'name': 'nancy', 'age': 20, 'hobby': ['reading', 'cooking', 'coding']}}"
      ]
     },
     "execution_count": 35,
     "metadata": {},
     "output_type": "execute_result"
    }
   ],
   "source": [
    "student"
   ]
  },
  {
   "cell_type": "code",
   "execution_count": 37,
   "id": "eb40afa1-d5aa-40f3-afba-f0c5d6f2e452",
   "metadata": {},
   "outputs": [
    {
     "data": {
      "text/plain": [
       "['reading', 'cooking', 'coding']"
      ]
     },
     "execution_count": 37,
     "metadata": {},
     "output_type": "execute_result"
    }
   ],
   "source": [
    "student[4].pop('hobby')"
   ]
  },
  {
   "cell_type": "code",
   "execution_count": 38,
   "id": "5825a37a-1504-4d62-bb7a-d6ec50c50a27",
   "metadata": {},
   "outputs": [
    {
     "data": {
      "text/plain": [
       "{1: {'name': 'pooja', 'age': 38, 'hobby': ['coding', 'puzzle']},\n",
       " 2: {'name': 'Abhay', 'age': 21, 'hobby': ['coding', 'cricket']},\n",
       " 4: {'name': 'nancy', 'age': 20}}"
      ]
     },
     "execution_count": 38,
     "metadata": {},
     "output_type": "execute_result"
    }
   ],
   "source": [
    "student"
   ]
  },
  {
   "cell_type": "code",
   "execution_count": 39,
   "id": "75c2870c-ab63-462d-9ff0-92044fc564cf",
   "metadata": {},
   "outputs": [],
   "source": [
    "student.clear()"
   ]
  },
  {
   "cell_type": "code",
   "execution_count": 40,
   "id": "a2e5a54d-de67-4270-ac11-382fc7e20f2e",
   "metadata": {},
   "outputs": [
    {
     "data": {
      "text/plain": [
       "{}"
      ]
     },
     "execution_count": 40,
     "metadata": {},
     "output_type": "execute_result"
    }
   ],
   "source": [
    "student"
   ]
  },
  {
   "cell_type": "code",
   "execution_count": 41,
   "id": "6cb47b14-40d2-4fc5-adb4-89d0af37ff3c",
   "metadata": {},
   "outputs": [],
   "source": [
    "del student"
   ]
  },
  {
   "cell_type": "code",
   "execution_count": 42,
   "id": "18714263-6536-40a5-b4d9-8a49f1216b92",
   "metadata": {},
   "outputs": [
    {
     "ename": "NameError",
     "evalue": "name 'student' is not defined",
     "output_type": "error",
     "traceback": [
      "\u001b[1;31m---------------------------------------------------------------------------\u001b[0m",
      "\u001b[1;31mNameError\u001b[0m                                 Traceback (most recent call last)",
      "Cell \u001b[1;32mIn[42], line 1\u001b[0m\n\u001b[1;32m----> 1\u001b[0m student\n",
      "\u001b[1;31mNameError\u001b[0m: name 'student' is not defined"
     ]
    }
   ],
   "source": [
    "student"
   ]
  },
  {
   "cell_type": "markdown",
   "id": "3860ecc0-d3f0-48b3-aa9a-d8b1b7326e30",
   "metadata": {},
   "source": [
    "# Dictionaries:\n",
    "- Create a dictionary.\n",
    "- Access values using keys.\n",
    "- Add or update key-value pairs.\n",
    "- Remove items from a dictionary.\n",
    "- Check if a key exists in a dictionary.\n",
    "- Iterate through dictionary keys and values.\n",
    "- Convert a list of tuples into a dictionary.\n",
    "- Find the length of a dictionary"
   ]
  },
  {
   "cell_type": "raw",
   "id": "588dcf00-d35c-4fcc-b397-dc41eca3f89a",
   "metadata": {},
   "source": [
    "total = monthly salary\n",
    "budget= {'cat1':amt,'cat2':amt,'cat3':amt}\n",
    "expense= {'cat1':{'sub1':amt,'sub2':amt}}"
   ]
  },
  {
   "cell_type": "code",
   "execution_count": 47,
   "id": "ee451f88-f929-40c2-9949-f53fa247b220",
   "metadata": {},
   "outputs": [
    {
     "name": "stdin",
     "output_type": "stream",
     "text": [
      "Enter the monthly salary:: 20000\n",
      "Enter the category food\n",
      "Enter the amount for food::: 5000\n",
      "Do you want to add more category(y/n):: y\n",
      "Enter the category 3145\n"
     ]
    },
    {
     "name": "stdout",
     "output_type": "stream",
     "text": [
      "invalid category name\n"
     ]
    },
    {
     "name": "stdin",
     "output_type": "stream",
     "text": [
      "Enter the category clothing\n",
      "Enter the amount for clothing::: 2000\n",
      "Do you want to add more category(y/n):: n\n"
     ]
    },
    {
     "name": "stdout",
     "output_type": "stream",
     "text": [
      "{'food': 5000, 'clothing': 2000}\n"
     ]
    }
   ],
   "source": [
    "salary = int(input(\"Enter the monthly salary::\"))\n",
    "budget = {}\n",
    "while True:\n",
    "    cat = input(\"Enter the category\").lower()\n",
    "    if not cat.isalpha():\n",
    "        print(\"invalid category name\")\n",
    "        continue\n",
    "        \n",
    "    amt = int(input(f\"Enter the amount for {cat}:::\"))\n",
    "    if amt<=salary:\n",
    "        if cat in budget:\n",
    "            budget[cat] = budget[cat] + amt\n",
    "        else:\n",
    "            budget[cat] = amt\n",
    "        salary -= amt\n",
    "    else:\n",
    "        print(\"Not enough balance\")\n",
    "    op = input(\"Do you want to add more category(y/n)::\")\n",
    "    if op.lower() == 'n':\n",
    "            print(budget)\n",
    "            break\n",
    "    elif op.lower() == 'y':\n",
    "        continue\n",
    "    else:\n",
    "        print(\"Invalid option\")\n"
   ]
  },
  {
   "cell_type": "code",
   "execution_count": 46,
   "id": "77cfcb71-87c3-4791-8e10-b42af5b99657",
   "metadata": {},
   "outputs": [
    {
     "data": {
      "text/plain": [
       "22800"
      ]
     },
     "execution_count": 46,
     "metadata": {},
     "output_type": "execute_result"
    }
   ],
   "source": [
    "salary"
   ]
  },
  {
   "cell_type": "code",
   "execution_count": null,
   "id": "d79fda9e-8765-42b0-a8b7-75172f673805",
   "metadata": {},
   "outputs": [],
   "source": [
    "expense= {}\n",
    "\n",
    "cat = 'food'\n",
    "detail = 'veg'\n",
    "amt = 100\n",
    "\n",
    "expense[cat][detail]=100"
   ]
  }
 ],
 "metadata": {
  "kernelspec": {
   "display_name": "Python 3 (ipykernel)",
   "language": "python",
   "name": "python3"
  },
  "language_info": {
   "codemirror_mode": {
    "name": "ipython",
    "version": 3
   },
   "file_extension": ".py",
   "mimetype": "text/x-python",
   "name": "python",
   "nbconvert_exporter": "python",
   "pygments_lexer": "ipython3",
   "version": "3.11.7"
  }
 },
 "nbformat": 4,
 "nbformat_minor": 5
}
